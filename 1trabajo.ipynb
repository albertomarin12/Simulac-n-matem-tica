{
 "cells": [
  {
   "cell_type": "markdown",
   "id": "f2d5c38a",
   "metadata": {},
   "source": [
    "# Mercado de derivados\n",
    "\n",
    "## Introducción\n",
    "\n",
    "### En el terreno financiero, el mercado de derivados es uno de los instrumentos más atractivos para generar ganancias. Entender su mecanismo y las oportunidades que representa nos abre un portal de grandes beneficios. Toma nota y acércate a los expertos. \n",
    "\n",
    "**1. Alguien entrega un vale por un costal de maíz el día 15 de abril para entregar el 15 de julio, el bien (subyacente o de referencia) es el costal de maíz, y el vale será el Contrato de Futuro (derivado). \n",
    "2. El precio o valor de ese vale por un costal de maíz va a cambiar según suba o baje el precio del maíz. El día de la entrega (15 de julio) tengo dos opciones, una de ellas es que pueden darme mi costal de maíz sin importar lo que valga pues ya tengo el vale por un costal de maíz o bien, si necesito dinero, alguien me puede comprar el vale y yo lo vendería a lo que en ese momento valga el costal de maíz.\n",
    "Es importante destacar que la principal característica de este producto financiero es que se encuentra vinculado al valor de un activo, por ejemplo el precio del oro, del petróleo o de acciones, índices bursátiles, tasa de interés, valores de renta fija, etcétera.\n",
    "De acuerdo a Grupo Financiero Monex, “el objetivo de los mercados de derivados es ofrecer diferentes herramientas para administrar y controlar riesgos de mercado y brindar certidumbre y control de los riesgos financieros que enfrentan las empresas, obteniendo una planeación financiera confiable, eliminando o minimizando la fluctuación de precios en los mercados, es decir, se administran los riesgos”.\n",
    "En este sentido, un punto a favor del mercado de derivados es que es posible tomar posiciones de venta sobre estos contratos, lo que permite tener beneficios aun cuando los precios o valores de sus activos subyacentes caen y, de esta forma, los derivados permitirán cubrirte y asumir los riesgos debido a que se pactan ciertas condiciones, precios y fechas de vencimiento desde el momento de su adquisición.**\n",
    "\n",
    "*Advertorial, F. (2020, 2 enero). El mercado de derivados ¿Qué es y cómo funciona? Forbes México. https://www.forbes.com.mx/mercado-de-derivados-que-es-y-como-funciona/*\n",
    "\n",
    "*Fórmula de media móvil | Calculadora (ejemplos con plantilla de Excel). (s. f.). https://es.education-wiki.com/9085155-moving-average-formula*"
   ]
  },
  {
   "cell_type": "markdown",
   "id": "f0346714",
   "metadata": {},
   "source": [
    "![](https://cdn.forbes.com.mx/2019/12/Monex-derivados-640x360.jpg)"
   ]
  },
  {
   "cell_type": "markdown",
   "id": "4e6b33e9",
   "metadata": {},
   "source": [
    "Otros mercados financieros\n",
    "1. Mercado de capitales\n",
    "2. Mercado de futuros\n",
    "3. Mercado de criptomonedas"
   ]
  },
  {
   "cell_type": "markdown",
   "id": "619335a9",
   "metadata": {},
   "source": [
    "Otros mercados financieros\n",
    "- Mercado de capitales\n",
    "- Mercado de futuros\n",
    "- Mercado de criptomonedas"
   ]
  },
  {
   "cell_type": "markdown",
   "id": "7c106660",
   "metadata": {},
   "source": [
    "**Media móvil simple (SMA)\n",
    "La fórmula de la SMA se calcula tomando el precio medio de cierre de un valor en cualquier período deseado. Para calcular una fórmula de media móvil, el precio total de cierre se divide por el número de períodos.\n",
    "\n",
    "Por ejemplo, si los últimos cinco precios de cierre son:**\n",
    "\n",
    "$$Media móvil simple = (A 1 + A 2 + …… + A n) / n$$"
   ]
  },
  {
   "cell_type": "code",
   "execution_count": null,
   "id": "b565b64e",
   "metadata": {},
   "outputs": [],
   "source": []
  }
 ],
 "metadata": {
  "kernelspec": {
   "display_name": "Python 3 (ipykernel)",
   "language": "python",
   "name": "python3"
  },
  "language_info": {
   "codemirror_mode": {
    "name": "ipython",
    "version": 3
   },
   "file_extension": ".py",
   "mimetype": "text/x-python",
   "name": "python",
   "nbconvert_exporter": "python",
   "pygments_lexer": "ipython3",
   "version": "3.9.12"
  }
 },
 "nbformat": 4,
 "nbformat_minor": 5
}
