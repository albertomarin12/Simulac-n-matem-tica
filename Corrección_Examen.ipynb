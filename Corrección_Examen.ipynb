{
  "cells": [
    {
      "cell_type": "markdown",
      "metadata": {
        "id": "view-in-github",
        "colab_type": "text"
      },
      "source": [
        "<a href=\"https://colab.research.google.com/github/albertomarin12/Simulac-n-matem-tica/blob/main/Correcci%C3%B3n_Examen.ipynb\" target=\"_parent\"><img src=\"https://colab.research.google.com/assets/colab-badge.svg\" alt=\"Open In Colab\"/></a>"
      ]
    },
    {
      "cell_type": "markdown",
      "id": "1e2823cf",
      "metadata": {
        "id": "1e2823cf"
      },
      "source": [
        "# Examen B Módulo 1 - Optimización.\n",
        "\n",
        "**Lea cuidadosamente las siguientes indicaciones antes de comenzar el examen:**\n",
        "- Para resolver el examen edite este mismo archivo y renómbrelo de la siguiente manera: *Examen1_ApellidoNombre*, donde *ApellidoNombre* corresponde a su apellido paterno con la inicial en mayúscula, seguido de su primer nombre con la inicial en mayúscula **sin acentos**. Por ejemplo, en mi caso el nombre del archivo sería *Examen1_MoralesGabriel*.\n",
        "- Resuelva los puntos en el espacio provisto. Si requiere agregar más celdas para código o escritura, hágalo (`Esc`,`B`) o (`Esc`,`A`).\n",
        "- Recuerde que también se está evaluando su capacidad de interpretar los resultados. Escriba sus interpretaciones/conclusiones en celdas utilizando *Markdown*.\n",
        "- El formato de presentación de todo el examen en general debe ser adecuado. Use tamaños de letra, colores, etiquetas, etcétera.\n",
        "- No se resuelven dudas de ningún tipo por los profesores de la asignatura. Por favor, absténgase de preguntar.\n",
        "- Revise bien el tipo de examen. Sólo se le calificará si realiza el tipo de examen asignado."
      ]
    },
    {
      "cell_type": "markdown",
      "id": "53712a36",
      "metadata": {
        "id": "53712a36"
      },
      "source": [
        "---\n",
        "# Primer punto. Optimización de funciones con `SymPy` (34 puntos)\n",
        "\n",
        "**Costo mínimo**. Imagine un contenedor rectangular sin tapa que debe satisfacer las siguientes condiciones:\n",
        "\n",
        "- Este contenedor debe tener un volumen **V**.\n",
        "- La longitud de su base es el doble que el de su ancho.\n",
        "- El material para la base cuesta 12.00 MXN por cada $m^2$.\n",
        "- El material para los lados cuesta 6.00 MXN por cada $m^2$.\n",
        "\n",
        "¿Cuál es el costo del contenedor más barato?\n"
      ]
    },
    {
      "cell_type": "markdown",
      "id": "9913d3d8",
      "metadata": {
        "id": "9913d3d8"
      },
      "source": [
        "1. Escriba el costo **C** del contenedor como una función del ancho de la base $x$ y de su altura $h$. Realice este punto usando $\\LaTeX$ y celdas *Markdown*."
      ]
    },
    {
      "cell_type": "markdown",
      "id": "d04a104b",
      "metadata": {
        "id": "d04a104b"
      },
      "source": [
        "Función costo corregida\n",
        "\n",
        "base: $2x^2 $\n",
        "\n",
        "lados: $4xh + 2xh = 6xh $"
      ]
    },
    {
      "cell_type": "markdown",
      "source": [
        "$C(x, h)= 24x^2 +24xh$"
      ],
      "metadata": {
        "id": "MPwwP3m5mJGc"
      },
      "id": "MPwwP3m5mJGc"
    },
    {
      "cell_type": "markdown",
      "id": "a1e58696",
      "metadata": {
        "id": "a1e58696"
      },
      "source": [
        "2. Determina las dimensiones del contenedor si el volumen debe ser de $12m^3$."
      ]
    },
    {
      "cell_type": "markdown",
      "source": [
        "Función volumen\n",
        "\n",
        "$V= 2x^2h=12m^3$"
      ],
      "metadata": {
        "id": "kRULUxNJmtGA"
      },
      "id": "kRULUxNJmtGA"
    },
    {
      "cell_type": "code",
      "execution_count": 9,
      "id": "8b1217dd",
      "metadata": {
        "colab": {
          "base_uri": "https://localhost:8080/",
          "height": 38
        },
        "id": "8b1217dd",
        "outputId": "c8f94d5e-66c3-4fa1-e553-eb6bad37c988"
      },
      "outputs": [
        {
          "output_type": "execute_result",
          "data": {
            "text/plain": [
              "2*h*x**2 - 12"
            ],
            "text/latex": "$\\displaystyle 2 h x^{2} - 12$"
          },
          "metadata": {},
          "execution_count": 9
        }
      ],
      "source": [
        "import sympy as sp\n",
        "import numpy as np\n",
        "\n",
        "sp.var(\"x\") #Base\n",
        "sp.var(\"h\") #Altura \n",
        "\n",
        "sp.var(\"b\") #Area Base \n",
        "sp.var(\"l\") #Area Base \n",
        "\n",
        "costo = 24*x**2 + 24*x*h\n",
        "\n",
        "b = 2*x**2\n",
        "l = x*h\n",
        "\n",
        "v = b*h -12\n",
        "v"
      ]
    },
    {
      "cell_type": "code",
      "execution_count": 10,
      "id": "7990dbe3",
      "metadata": {
        "colab": {
          "base_uri": "https://localhost:8080/",
          "height": 38
        },
        "id": "7990dbe3",
        "outputId": "c645600a-37f9-495e-f1d7-593f088ec760"
      },
      "outputs": [
        {
          "output_type": "execute_result",
          "data": {
            "text/plain": [
              "24*h*x + 24*x**2"
            ],
            "text/latex": "$\\displaystyle 24 h x + 24 x^{2}$"
          },
          "metadata": {},
          "execution_count": 10
        }
      ],
      "source": [
        "costo"
      ]
    },
    {
      "cell_type": "code",
      "source": [
        "s_x=sp.solve(v,x)\n",
        "s_x[1]"
      ],
      "metadata": {
        "colab": {
          "base_uri": "https://localhost:8080/",
          "height": 58
        },
        "id": "VuJJPu7vtfRk",
        "outputId": "baf5e8d7-27a4-4d2a-b50f-80fb989f6069"
      },
      "id": "VuJJPu7vtfRk",
      "execution_count": 11,
      "outputs": [
        {
          "output_type": "execute_result",
          "data": {
            "text/plain": [
              "sqrt(6)*sqrt(1/h)"
            ],
            "text/latex": "$\\displaystyle \\sqrt{6} \\sqrt{\\frac{1}{h}}$"
          },
          "metadata": {},
          "execution_count": 11
        }
      ]
    },
    {
      "cell_type": "code",
      "source": [
        "v_x=s_x[1]\n",
        "v_x"
      ],
      "metadata": {
        "colab": {
          "base_uri": "https://localhost:8080/",
          "height": 58
        },
        "id": "s0gIpvwOtmdG",
        "outputId": "699a63a8-d12a-4924-89cc-d4375f61ed21"
      },
      "id": "s0gIpvwOtmdG",
      "execution_count": 12,
      "outputs": [
        {
          "output_type": "execute_result",
          "data": {
            "text/plain": [
              "sqrt(6)*sqrt(1/h)"
            ],
            "text/latex": "$\\displaystyle \\sqrt{6} \\sqrt{\\frac{1}{h}}$"
          },
          "metadata": {},
          "execution_count": 12
        }
      ]
    },
    {
      "cell_type": "code",
      "source": [
        "subs_x=costo.subs(x,v_x)\n",
        "subs_x "
      ],
      "metadata": {
        "colab": {
          "base_uri": "https://localhost:8080/",
          "height": 58
        },
        "id": "nIq8y5Pgt0dn",
        "outputId": "30b983f1-c411-443b-a161-2e7cd15c68f5"
      },
      "id": "nIq8y5Pgt0dn",
      "execution_count": 14,
      "outputs": [
        {
          "output_type": "execute_result",
          "data": {
            "text/plain": [
              "24*sqrt(6)*h*sqrt(1/h) + 144/h"
            ],
            "text/latex": "$\\displaystyle 24 \\sqrt{6} h \\sqrt{\\frac{1}{h}} + \\frac{144}{h}$"
          },
          "metadata": {},
          "execution_count": 14
        }
      ]
    },
    {
      "cell_type": "code",
      "source": [
        "df= sp.diff(subs_x,h)\n",
        "df"
      ],
      "metadata": {
        "colab": {
          "base_uri": "https://localhost:8080/",
          "height": 58
        },
        "id": "EuFguwSIt__9",
        "outputId": "c77aeacc-d773-4898-99da-fd10e08c3007"
      },
      "id": "EuFguwSIt__9",
      "execution_count": 15,
      "outputs": [
        {
          "output_type": "execute_result",
          "data": {
            "text/plain": [
              "12*sqrt(6)*sqrt(1/h) - 144/h**2"
            ],
            "text/latex": "$\\displaystyle 12 \\sqrt{6} \\sqrt{\\frac{1}{h}} - \\frac{144}{h^{2}}$"
          },
          "metadata": {},
          "execution_count": 15
        }
      ]
    },
    {
      "cell_type": "code",
      "source": [
        "pc= sp.solve(df,h)\n",
        "pc "
      ],
      "metadata": {
        "colab": {
          "base_uri": "https://localhost:8080/"
        },
        "id": "wg0Z6ho9uEli",
        "outputId": "ac5e5115-726a-49cc-ef26-add3a46582c2"
      },
      "id": "wg0Z6ho9uEli",
      "execution_count": 16,
      "outputs": [
        {
          "output_type": "execute_result",
          "data": {
            "text/plain": [
              "[2*3**(1/3)]"
            ]
          },
          "metadata": {},
          "execution_count": 16
        }
      ]
    },
    {
      "cell_type": "code",
      "source": [
        "float(pc[0]) #valor de h"
      ],
      "metadata": {
        "colab": {
          "base_uri": "https://localhost:8080/"
        },
        "id": "LJdDCgMTuKf-",
        "outputId": "0ca2803a-b76a-43e2-ec32-0bd31e4a81aa"
      },
      "id": "LJdDCgMTuKf-",
      "execution_count": 17,
      "outputs": [
        {
          "output_type": "execute_result",
          "data": {
            "text/plain": [
              "2.8844991406148166"
            ]
          },
          "metadata": {},
          "execution_count": 17
        }
      ]
    },
    {
      "cell_type": "code",
      "source": [
        "num_x=float(v_x.subs(h,pc[0])) #valor de x \n",
        "num_x"
      ],
      "metadata": {
        "colab": {
          "base_uri": "https://localhost:8080/"
        },
        "id": "mPrSxdbsuOLn",
        "outputId": "53f64a97-a9cc-41e5-92b1-36d20320e884"
      },
      "id": "mPrSxdbsuOLn",
      "execution_count": 19,
      "outputs": [
        {
          "output_type": "execute_result",
          "data": {
            "text/plain": [
              "1.4422495703074083"
            ]
          },
          "metadata": {},
          "execution_count": 19
        }
      ]
    },
    {
      "cell_type": "markdown",
      "source": [
        "### Las dimensiones que la caja debe de medir para tener un volumen de 12cm cubicos es...\n",
        "$$ altura = 2.88cm $$\n",
        "$$ ancho = 1.44cm $$"
      ],
      "metadata": {
        "id": "MYtAbvYXu2MY"
      },
      "id": "MYtAbvYXu2MY"
    },
    {
      "cell_type": "markdown",
      "id": "fec1be1e",
      "metadata": {
        "id": "fec1be1e"
      },
      "source": [
        "3. ¿Cuál fue el costo de fabricar este contenedor?"
      ]
    },
    {
      "cell_type": "code",
      "execution_count": 20,
      "id": "0c638fe3",
      "metadata": {
        "colab": {
          "base_uri": "https://localhost:8080/"
        },
        "id": "0c638fe3",
        "outputId": "6c54891a-0a6f-4950-ebae-7efacc1de53d"
      },
      "outputs": [
        {
          "output_type": "execute_result",
          "data": {
            "text/plain": [
              "149.76603525973707"
            ]
          },
          "metadata": {},
          "execution_count": 20
        }
      ],
      "source": [
        "costo_min= float(costo.subs(x,num_x).subs(h,pc[0]))\n",
        "costo_min"
      ]
    },
    {
      "cell_type": "markdown",
      "source": [
        "### El costo mínimo para realizar la caja es de...\n",
        "$$ costo = 149 UnidadesMonetarias $$"
      ],
      "metadata": {
        "id": "bgESdZcuv5Fs"
      },
      "id": "bgESdZcuv5Fs"
    },
    {
      "cell_type": "markdown",
      "id": "4eeff9c8",
      "metadata": {
        "id": "4eeff9c8"
      },
      "source": [
        "---\n",
        "# Segundo punto. Programación lineal (33 puntos)"
      ]
    },
    {
      "cell_type": "markdown",
      "id": "8013ca31",
      "metadata": {
        "id": "8013ca31"
      },
      "source": [
        "Una empresa se dedica a fabricar tarjetas de control para automóviles, y están en su momento de planeación de compras anuales. Hay 5 proveedores que pueden proveer los componentes, cada uno a su propio precio."
      ]
    },
    {
      "cell_type": "markdown",
      "id": "f41253d2",
      "metadata": {
        "id": "f41253d2"
      },
      "source": [
        "<table>\n",
        "  <tr>\n",
        "      <th>  </th>\n",
        "      <th>Proveedor 1</th>\n",
        "      <th>Proveedor 2</th>\n",
        "      <th>Proveedor 3</th>\n",
        "      <th>Demanda</th>\n",
        "  </tr>\n",
        "  <tr>\n",
        "      <th>Componente 1</th>\n",
        "      <td>0.5</td>\n",
        "      <td>0.6</td>\n",
        "      <td>0.7</td>\n",
        "      <td>15000</td>\n",
        "  </tr>\n",
        "  <tr style=\"border-bottom: 1px solid #000;\">\n",
        "      <th>Componente 2</th>\n",
        "      <td>0.7</td>\n",
        "      <td>0.5</td>\n",
        "      <td>0.6</td>\n",
        "      <td>20000</td>\n",
        "  </tr>\n",
        "  <tr style=\"border-bottom: 1px solid #000;\">\n",
        "      <th>Componente 3</th>\n",
        "      <td>0.32</td>\n",
        "      <td>0.54</td>\n",
        "      <td>0.8</td>\n",
        "      <td>12000</td>\n",
        "  </tr>\n",
        "\n",
        "  <tr style=\"border-bottom: 1px solid #000;\">\n",
        "      <th>Capacidad</th>\n",
        "      <td> 21000 </td>\n",
        "      <td> 16000 </td>\n",
        "      <td> 16000 </td>\n",
        "      <td>  </td>\n",
        "  </tr>\n",
        "</table>"
      ]
    },
    {
      "cell_type": "markdown",
      "id": "48d6c967",
      "metadata": {
        "id": "48d6c967"
      },
      "source": [
        "El proveedor tiene restricciones de capacidad de fabricación del tipo de componentes, por lo que un proveedor no puede satisfacer nuestra demanda completa para cada componente."
      ]
    },
    {
      "cell_type": "markdown",
      "id": "85e307ae",
      "metadata": {
        "id": "85e307ae"
      },
      "source": [
        "Se desea conocer la cantidad que se debe comprar de cada componente a cada proveedor para gastar la menor cantidad de dinero posible, pero al mismo tiempo lograr satisfacer la demanda para poder continuar con la manufactura del producto."
      ]
    },
    {
      "cell_type": "markdown",
      "id": "df55a736",
      "metadata": {
        "id": "df55a736"
      },
      "source": [
        "1. Escriba la función a **minimizar** junto con las restricciones, explicando detalladamente cada paso (usando fórmulas en $\\LaTeX$, en celdas Markdown). Además escriba el problema en la forma \\begin{equation}\n",
        "\\begin{array}{ll}\n",
        "\\min_{\\boldsymbol{x}} & \\boldsymbol{c}^T\\boldsymbol{x} \\\\\n",
        "\\text{s. a. }        & \\boldsymbol{A}_{eq}\\boldsymbol{x}=\\boldsymbol{b}_{eq} \\\\\n",
        "                     & \\boldsymbol{A}\\boldsymbol{x}\\leq\\boldsymbol{b},\n",
        "\\end{array}\\qquad\\text{(23 puntos)}\n",
        "\\end{equation}"
      ]
    },
    {
      "cell_type": "markdown",
      "id": "04ce36d6",
      "metadata": {
        "id": "04ce36d6"
      },
      "source": [
        "Función a minimizar\n",
        "$$ 0.5X_1+ 0.6X_2 + 0.7X_3 + 0.7X_4 + 0.5X_5 + 0.6X_6 + 0.32X_7 + 0.54X_8 + 0.8X_9$$\n",
        "Restricciones\n",
        "$$ 21000 >= X_1+ 0X_2 + 0X_3 + X_4 + 0X_5 + 0X_6 + X_7 + 0X_8 + 0X_9$$\n",
        "$$ 16000 >= 0X_1+ X_2 + 0X_3 + 0X_4 + X_5 + 0X_6 + 0X_7 + X_8 + 0X_9$$\n",
        "$$ 16000 >= 0X_1+ 0X_2 + X_3 + 0X_4 + 0X_5 + X_6 + 0X_7 + 0X_8 + X_9$$\n",
        "$$ -15000 >= -X_1 - X_2 - X_3 + 0X_4 + 0X_5 + 0X_6 + 0X_7 + 0X_8 + 0X_9$$\n",
        "$$ -20000 >= 0X_1+ 0X_2 + 0X_3 - X_4 - 0X_5 - 0X_6 + 0X_7 + 0X_8 + 0X_9$$\n",
        "$$ -12000 >= 0X_1+ 0X_2 + 0X_3 + 0X_4 + 0X_5 + 0X_6 - X_7 - X_8 - \n",
        "X_9$$"
      ]
    },
    {
      "cell_type": "markdown",
      "id": "d4c96539",
      "metadata": {
        "id": "d4c96539"
      },
      "source": []
    },
    {
      "cell_type": "markdown",
      "id": "4f8863ce",
      "metadata": {
        "id": "4f8863ce"
      },
      "source": []
    },
    {
      "cell_type": "markdown",
      "id": "6c1e3c9a",
      "metadata": {
        "id": "6c1e3c9a"
      },
      "source": [
        "2. Resuelva el problema utilizando la función `linprog`. ¿Cómo debe ser la distribución de compras? ¿Cuánto dinero se necesita para satisfacer la demanda? (10 puntos)"
      ]
    },
    {
      "cell_type": "code",
      "execution_count": null,
      "id": "d321188e",
      "metadata": {
        "id": "d321188e",
        "outputId": "e4213785-25f0-43b9-fc5f-6c4f48393d0f"
      },
      "outputs": [
        {
          "data": {
            "text/plain": [
              "     con: array([], dtype=float64)\n",
              "     fun: 22940.0\n",
              " message: 'Optimization terminated successfully.'\n",
              "     nit: 10\n",
              "   slack: array([   0.,    0., 6000.,    0.,    0.,    0.])\n",
              "  status: 0\n",
              " success: True\n",
              "       x: array([ 9000.,     0.,  6000.,     0., 16000.,  4000., 12000.,     0.,\n",
              "           0.])"
            ]
          },
          "execution_count": 19,
          "metadata": {},
          "output_type": "execute_result"
        }
      ],
      "source": [
        "import scipy.optimize as opt\n",
        "import numpy as np\n",
        "\n",
        "c = np.asarray([0.5,\n",
        "                0.6,\n",
        "                0.7,\n",
        "                0.7,\n",
        "                0.5,\n",
        "                0.6,\n",
        "                0.32,\n",
        "                0.54,\n",
        "                0.8,])\n",
        "\n",
        "A_ub = np.asarray([\n",
        "    [1,  0,  0,  1,  0, 0, 1, 0, 0,], #Lunes\n",
        "    [0,  1,  0,  0,  1, 0, 0, 1, 0,], #Martes\n",
        "    [0,  0,  1,  0,  0, 1, 0, 0, 1,], #Miércoles\n",
        "    [-1,-1, -1,  0,  0, 0, 0, 0, 0,], #Jueves\n",
        "    [0,  0,  0, -1, -1,-1, 0, 0, 0,], #Viernes\n",
        "    [ 0, 0,  0,  0,  0, 0,-1,-1,-1,], #Sábado\n",
        "])\n",
        "\n",
        "b_ub = np.asarray([21000,\n",
        "                   16000,\n",
        "                   16000,\n",
        "                   -15000,\n",
        "                   -20000,\n",
        "                   -12000,\n",
        "                   ])\n",
        "\n",
        "opt.linprog(c, A_ub, b_ub, method=\"simplex\")"
      ]
    },
    {
      "cell_type": "markdown",
      "id": "f658b0c7",
      "metadata": {
        "id": "f658b0c7"
      },
      "source": [
        "Segun el modelo de optimización debemos pedir\n",
        "1. 9000  unidades de componente 1 al proveerdor 1\n",
        "2.   0  unidades de componente 2 al proveerdor 1\n",
        "6000  unidades de componente 3 al proveerdor 1\n",
        "   0  unidades de componente 1 al proveerdor 2\n",
        "16000 unidades de componente 2 al proveerdor 2\n",
        "4000  unidades de componente 3 al proveerdor 2\n",
        "12000 unidades de componente 1 al proveerdor 3\n",
        "   0  unidades de componente 2 al proveerdor 3\n",
        "   0  unidades de componente 3 al proveerdor 3"
      ]
    },
    {
      "cell_type": "code",
      "execution_count": null,
      "id": "e457259e",
      "metadata": {
        "id": "e457259e"
      },
      "outputs": [],
      "source": []
    },
    {
      "cell_type": "markdown",
      "id": "5663a48b",
      "metadata": {
        "id": "5663a48b"
      },
      "source": [
        "# Tercer punto. Ajuste de curvas (33 puntos)\n",
        "\n",
        "Utiliza el archivo adjunto en Canvas en el apartado que corresponde al examen."
      ]
    },
    {
      "cell_type": "markdown",
      "id": "c673e9e6",
      "metadata": {
        "id": "c673e9e6"
      },
      "source": [
        "Escribe tu número de expediente: 740526"
      ]
    },
    {
      "cell_type": "markdown",
      "id": "da3c6c2e",
      "metadata": {
        "id": "da3c6c2e"
      },
      "source": [
        "Lee el archivo y extrae la siguiente información:\n",
        "- $x$ es la primer columna del archivo\n",
        "- $y$ es la columna correspondiente a los últimos dos dígitos de tu número de expediente + 1. E.g. mi expediente es $693871$; por lo tanto, debo usar la columna $72$."
      ]
    },
    {
      "cell_type": "code",
      "execution_count": null,
      "id": "46fbbaf5",
      "metadata": {
        "id": "46fbbaf5"
      },
      "outputs": [],
      "source": [
        "import pandas as pd\n",
        "data = pd.read_excel(\"E01-RegresionLineal.xlsx\")"
      ]
    },
    {
      "cell_type": "markdown",
      "id": "8714fbd7",
      "metadata": {
        "id": "8714fbd7"
      },
      "source": [
        "1. Ajuste los datos con polinomios de grados 1, 3, y 5. Muestre los errores de forma gráfica. ¿Qué polinomio se ajusta mejor?"
      ]
    },
    {
      "cell_type": "code",
      "execution_count": null,
      "id": "027ba631",
      "metadata": {
        "id": "027ba631"
      },
      "outputs": [],
      "source": [
        "x = data[0].values \n",
        "y = data[26].values\n",
        "\n",
        "m = len(y)\n",
        "ones = np.ones([m, 1])\n",
        "x1 = np.reshape(x, [m, 1])\n",
        "x3 = np.reshape(x**3, [m, 1])\n",
        "x4 = np.reshape(x**4, [m, 1])\n",
        "x5 = np.reshape(x**5, [m, 1])\n",
        "\n",
        "X1 = np.hstack((ones, x1))\n",
        "X3 = np.hstack((ones, x1, x2, x3))\n",
        "X5 = np.hstack((ones, x1, x2, x3, x4, x5))\n",
        "\n",
        "beta_inicial1 = np.random.rand(2)\n",
        "beta_inicial3 = np.random.rand(4)\n",
        "beta_inicial5 = np.random.rand(6)\n",
        "\n",
        "y_vector = np.reshape(y, [m, 1])\n",
        "\n",
        "def foo(beta, X, y) :\n",
        "    m, n = X.shape\n",
        "    beta = np.reshape(beta, [n, 1])\n",
        "    prediccion = X @ beta\n",
        "    error = prediccion - y\n",
        "    return (error.T @ error)[0][0]"
      ]
    },
    {
      "cell_type": "code",
      "execution_count": null,
      "id": "867c7c09",
      "metadata": {
        "id": "867c7c09"
      },
      "outputs": [],
      "source": [
        "sol1 = opt.minimize(foo, beta_inicial1, args=(X1, y_vector))\n",
        "sol3 = opt.minimize(foo, beta_inicial3, args=(X3, y_vector))\n",
        "sol5 = opt.minimize(foo, beta_inicial5, args=(X5, y_vector))\n"
      ]
    },
    {
      "cell_type": "code",
      "execution_count": null,
      "id": "02c63d5b",
      "metadata": {
        "id": "02c63d5b",
        "outputId": "bbb616be-b73f-4d68-e3c1-c048086e580f"
      },
      "outputs": [
        {
          "data": {
            "text/plain": [
              "      fun: 45821.84237431023\n",
              " hess_inv: array([[ 0.00199701, -0.00149701],\n",
              "       [-0.00149701,  0.00149701]])\n",
              "      jac: array([0., 0.])\n",
              "  message: 'Optimization terminated successfully.'\n",
              "     nfev: 18\n",
              "      nit: 5\n",
              "     njev: 6\n",
              "   status: 0\n",
              "  success: True\n",
              "        x: array([  7.53531496, -17.77337324])"
            ]
          },
          "execution_count": 32,
          "metadata": {},
          "output_type": "execute_result"
        }
      ],
      "source": [
        "sol1"
      ]
    },
    {
      "cell_type": "markdown",
      "id": "59862478",
      "metadata": {
        "id": "59862478"
      },
      "source": [
        "2. Muestre en un gráfico los datos y el polinomio que mejor se ajuste."
      ]
    },
    {
      "cell_type": "code",
      "execution_count": null,
      "id": "38314a1a",
      "metadata": {
        "id": "38314a1a",
        "outputId": "f3d6b8d5-8669-40b1-99d7-5384c2f69be8"
      },
      "outputs": [
        {
          "data": {
            "text/plain": [
              "[<matplotlib.lines.Line2D at 0x1f06a0346a0>]"
            ]
          },
          "execution_count": 35,
          "metadata": {},
          "output_type": "execute_result"
        },
        {
          "data": {
            "image/png": "[encoded data removed]",
            "text/plain": [
              "<Figure size 640x480 with 1 Axes>"
            ]
          },
          "metadata": {},
          "output_type": "display_data"
        }
      ],
      "source": [
        "import matplotlib.pyplot as plt\n",
        "%matplotlib inline\n",
        "plt.figure()\n",
        "plt.scatter(x, y)\n",
        "plt.plot(x, X1 @ sol1.x)\n",
        "plt.plot(x, X3 @ sol3.x, \"r\")\n",
        "plt.plot(x, X5 @ sol5.x, \"g\")\n"
      ]
    },
    {
      "cell_type": "code",
      "execution_count": null,
      "id": "5ae700eb",
      "metadata": {
        "id": "5ae700eb",
        "outputId": "89236d13-c92b-406b-f36a-1a9c4f3a0a90"
      },
      "outputs": [
        {
          "data": {
            "text/plain": [
              "<BarContainer object of 3 artists>"
            ]
          },
          "execution_count": 36,
          "metadata": {},
          "output_type": "execute_result"
        },
        {
          "data": {
            "image/png": "[encoded data removed]",
            "text/plain": [
              "<Figure size 640x480 with 1 Axes>"
            ]
          },
          "metadata": {},
          "output_type": "display_data"
        }
      ],
      "source": [
        "plt.figure()\n",
        "plt.bar([1, 3, 5], [sol1.fun, sol3.fun, sol5.fun])"
      ]
    },
    {
      "cell_type": "code",
      "execution_count": null,
      "id": "0edf1133",
      "metadata": {
        "id": "0edf1133",
        "outputId": "1e30518f-8d47-4f8a-e076-6f409ae93fbd"
      },
      "outputs": [
        {
          "data": {
            "text/plain": [
              "<BarContainer object of 2 artists>"
            ]
          },
          "execution_count": 37,
          "metadata": {},
          "output_type": "execute_result"
        },
        {
          "data": {
            "image/png": "[encoded data removed]",
            "text/plain": [
              "<Figure size 640x480 with 1 Axes>"
            ]
          },
          "metadata": {},
          "output_type": "display_data"
        }
      ],
      "source": [
        "plt.figure()\n",
        "plt.bar([ 3, 5], [ sol3.fun, sol5.fun])"
      ]
    },
    {
      "cell_type": "code",
      "execution_count": null,
      "id": "27387213",
      "metadata": {
        "id": "27387213"
      },
      "outputs": [],
      "source": [
        "import matplotlib.pyplot as plt\n",
        "%matplotlib inline\n",
        "plt.figure()\n",
        "plt.scatter(x, y)\n",
        "plt.plot(x, X1 @ sol1.x)\n",
        "plt.plot(x, X2 @ sol2.x, \"r\")\n",
        "plt.plot(x, X3 @ sol3.x, \"g\")\n"
      ]
    },
    {
      "cell_type": "code",
      "execution_count": null,
      "id": "f4097aa4",
      "metadata": {
        "id": "f4097aa4",
        "outputId": "314725ba-4d56-481f-c09a-4ad8a37a2791"
      },
      "outputs": [
        {
          "data": {
            "text/plain": [
              "[<matplotlib.lines.Line2D at 0x1f06b343ac0>]"
            ]
          },
          "execution_count": 38,
          "metadata": {},
          "output_type": "execute_result"
        },
        {
          "data": {
            "image/png": "[encoded data removed]",
            "text/plain": [
              "<Figure size 640x480 with 1 Axes>"
            ]
          },
          "metadata": {},
          "output_type": "display_data"
        }
      ],
      "source": [
        "import matplotlib.pyplot as plt\n",
        "%matplotlib inline\n",
        "plt.figure()\n",
        "plt.scatter(x, y)\n",
        "plt.plot(x, X5 @ sol5.x, \"g\")\n"
      ]
    },
    {
      "cell_type": "markdown",
      "id": "29da8aa0",
      "metadata": {
        "id": "29da8aa0"
      },
      "source": [
        "La ecuación con menos error es la función de grado 5"
      ]
    },
    {
      "cell_type": "markdown",
      "id": "238f342a",
      "metadata": {
        "id": "238f342a"
      },
      "source": [
        "3. Use el modelo para averiguar el valor de $y$ cuando:\n",
        "- $x=0.001$\n",
        "- $x=-0.1$\n",
        "- $x=2.1$"
      ]
    },
    {
      "cell_type": "code",
      "execution_count": null,
      "id": "82706e4e",
      "metadata": {
        "id": "82706e4e",
        "outputId": "bf6bc2ad-c06f-4913-a65d-97bbd17f8eff"
      },
      "outputs": [
        {
          "data": {
            "text/plain": [
              "      fun: 964.2161619724462\n",
              " hess_inv: array([[ 1.51898247e-02, -1.24165795e-01,  3.18527154e-01,\n",
              "        -3.49465930e-01,  1.71684419e-01, -3.10671470e-02],\n",
              "       [-1.24165795e-01,  1.42451829e+00, -4.21889358e+00,\n",
              "         5.01361133e+00, -2.59148268e+00,  4.85700680e-01],\n",
              "       [ 3.18527154e-01, -4.21889358e+00,  1.35125209e+01,\n",
              "        -1.68731108e+01,  9.02500565e+00, -1.73441217e+00],\n",
              "       [-3.49465930e-01,  5.01361133e+00, -1.68731108e+01,\n",
              "         2.17973746e+01, -1.19517327e+01,  2.34078196e+00],\n",
              "       [ 1.71684419e-01, -2.59148268e+00,  9.02500565e+00,\n",
              "        -1.19517327e+01,  6.67808037e+00, -1.32748742e+00],\n",
              "       [-3.10671470e-02,  4.85700680e-01, -1.73441217e+00,\n",
              "         2.34078196e+00, -1.32748742e+00,  2.67057708e-01]])\n",
              "      jac: array([-7.62939453e-06, -7.62939453e-06,  0.00000000e+00,  7.62939453e-06,\n",
              "        0.00000000e+00,  7.62939453e-06])\n",
              "  message: 'Optimization terminated successfully.'\n",
              "     nfev: 168\n",
              "      nit: 19\n",
              "     njev: 24\n",
              "   status: 0\n",
              "  success: True\n",
              "        x: array([-2.03818255,  0.44871988,  1.09023466,  0.16824843, -2.94141245,\n",
              "       -0.18958577])"
            ]
          },
          "execution_count": 40,
          "metadata": {},
          "output_type": "execute_result"
        }
      ],
      "source": [
        "sol5"
      ]
    },
    {
      "cell_type": "code",
      "execution_count": null,
      "id": "b5d4cfe7",
      "metadata": {
        "id": "b5d4cfe7",
        "outputId": "96736529-d18c-45b6-c2db-1fb0667767b9"
      },
      "outputs": [
        {
          "data": {
            "text/latex": [
              "$\\displaystyle - 0.18958577 x^{5} - 2.941412 x^{4} + 0.16824843 x^{3} + 1.09023466 x^{2} + 0.44871988 x - 2.03818255$"
            ],
            "text/plain": [
              "-0.18958577*x**5 - 2.941412*x**4 + 0.16824843*x**3 + 1.09023466*x**2 + 0.44871988*x - 2.03818255"
            ]
          },
          "execution_count": 43,
          "metadata": {},
          "output_type": "execute_result"
        }
      ],
      "source": [
        "import sympy as sp\n",
        "\n",
        "sp.var(\"x\")\n",
        "\n",
        "fx = -2.03818255 + 0.44871988*x + 1.09023466*x**2 + 0.16824843*x**3 -2.941412*x**4 -0.18958577*x**5 \n",
        "fx"
      ]
    },
    {
      "cell_type": "code",
      "execution_count": null,
      "id": "51beb7c1",
      "metadata": {
        "id": "51beb7c1",
        "outputId": "5d2a0958-73c5-4fa7-f585-c0321e4a4441"
      },
      "outputs": [
        {
          "data": {
            "text/latex": [
              "$\\displaystyle -2.03773273972003$"
            ],
            "text/plain": [
              "-2.03773273972003"
            ]
          },
          "execution_count": 44,
          "metadata": {},
          "output_type": "execute_result"
        }
      ],
      "source": [
        "V1 = fx.subs(x,0.001)\n",
        "V1"
      ]
    },
    {
      "cell_type": "code",
      "execution_count": null,
      "id": "53e0c123",
      "metadata": {
        "scrolled": false,
        "id": "53e0c123",
        "outputId": "d4ba98e3-f7df-40ff-b94f-904a95bee9a0"
      },
      "outputs": [
        {
          "data": {
            "text/latex": [
              "$\\displaystyle -2.0726126851723$"
            ],
            "text/plain": [
              "-2.07261268517230"
            ]
          },
          "execution_count": 46,
          "metadata": {},
          "output_type": "execute_result"
        }
      ],
      "source": [
        "V2 = fx.subs(x,-.1)\n",
        "V2"
      ]
    },
    {
      "cell_type": "code",
      "execution_count": null,
      "id": "3d244163",
      "metadata": {
        "id": "3d244163",
        "outputId": "ed6033ba-571e-4e8b-b3f5-49fdc8c67810"
      },
      "outputs": [
        {
          "data": {
            "text/latex": [
              "$\\displaystyle -59.6775362867977$"
            ],
            "text/plain": [
              "-59.6775362867977"
            ]
          },
          "execution_count": 47,
          "metadata": {},
          "output_type": "execute_result"
        }
      ],
      "source": [
        "V3 = fx.subs(x,2.1)\n",
        "V3"
      ]
    },
    {
      "cell_type": "markdown",
      "id": "4af77457",
      "metadata": {
        "id": "4af77457"
      },
      "source": [
        "4. ¿Qué diferencias encuentra en cuanto a la interpolación y la extrapolación?"
      ]
    },
    {
      "cell_type": "markdown",
      "id": "2e5066df",
      "metadata": {
        "id": "2e5066df"
      },
      "source": [
        "La diferencia es que la extrapolación nos permite ver fuera del rango de datos que tenemos, mientras que la interpolación es estimar dentro del rango de datos que tenemos."
      ]
    },
    {
      "cell_type": "markdown",
      "id": "7f451519",
      "metadata": {
        "id": "7f451519"
      },
      "source": []
    },
    {
      "cell_type": "markdown",
      "id": "fc693d0d",
      "metadata": {
        "id": "fc693d0d"
      },
      "source": []
    },
    {
      "cell_type": "markdown",
      "id": "3ff8002f",
      "metadata": {
        "id": "3ff8002f"
      },
      "source": [
        "5. (Punto extra) Agregue un termino $\\beta_5 cos(10x)$ a su modelo y grafique los resultados. ¿Mejoró el resultado?"
      ]
    },
    {
      "cell_type": "code",
      "execution_count": null,
      "id": "28b1f9ef",
      "metadata": {
        "id": "28b1f9ef"
      },
      "outputs": [],
      "source": []
    },
    {
      "cell_type": "code",
      "execution_count": null,
      "id": "011525b0",
      "metadata": {
        "id": "011525b0"
      },
      "outputs": [],
      "source": []
    },
    {
      "cell_type": "code",
      "execution_count": null,
      "id": "b6cc448d",
      "metadata": {
        "id": "b6cc448d"
      },
      "outputs": [],
      "source": []
    }
  ],
  "metadata": {
    "kernelspec": {
      "display_name": "Python 3 (ipykernel)",
      "language": "python",
      "name": "python3"
    },
    "language_info": {
      "codemirror_mode": {
        "name": "ipython",
        "version": 3
      },
      "file_extension": ".py",
      "mimetype": "text/x-python",
      "name": "python",
      "nbconvert_exporter": "python",
      "pygments_lexer": "ipython3",
      "version": "3.9.12"
    },
    "colab": {
      "provenance": [],
      "include_colab_link": true
    }
  },
  "nbformat": 4,
  "nbformat_minor": 5
}