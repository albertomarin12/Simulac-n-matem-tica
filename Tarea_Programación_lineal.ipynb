{
  "cells": [
    {
      "cell_type": "markdown",
      "metadata": {
        "id": "view-in-github",
        "colab_type": "text"
      },
      "source": [
        "<a href=\"https://colab.research.google.com/github/albertomarin12/Simulac-n-matem-tica/blob/main/Tarea_Programaci%C3%B3n_lineal.ipynb\" target=\"_parent\"><img src=\"https://colab.research.google.com/assets/colab-badge.svg\" alt=\"Open In Colab\"/></a>"
      ]
    },
    {
      "cell_type": "markdown",
      "metadata": {
        "id": "PhJEngG22hJD"
      },
      "source": [
        "# Tarea - Programación lineal"
      ]
    },
    {
      "cell_type": "markdown",
      "metadata": {
        "id": "b4njyaJL2hJL"
      },
      "source": [
        "### Diseño de la Dieta Óptima\n",
        "\n",
        "Se quiere producir comida para gatos de la manera más barata, no obstante se debe también asegurar que se cumplan los datos requeridos de analisis nutricional. Por lo que se quiere variar la cantidad de cada ingrediente para cumplir con los estandares nutricionales. Los requisitos que se tienen es que en $100$ gramos, se deben tener **por lo menos** $8$ gramos de proteína y $6$ gramos de grasa. Así mismo, no se debe tener más de $2$ gramos de fibra y $0.4$ gramos de sal.  \n",
        "\n",
        "Los datos nutricionales se pueden obtener de la siguiente tabla:\n",
        "\n",
        "Ingrediente|Proteína|Grasa|Fibra|Sal\n",
        ":----|----|----|----|----\n",
        "Pollo|  10.0%|08.0%|00.1%|00.2%\n",
        "Carne|  20.0%|10.0%|00.5%|00.5%\n",
        "Cordero|15.0%|11.0%|00.5%|00.7%\n",
        "Arroz|  00.0%|01.0%|10.0%|00.2%\n",
        "Trigo|  04.0%|01.0%|15.0%|00.8%\n",
        "Gel|    00.0%|00.0%|00.0%|00.0%\n",
        "\n",
        "Los costos de cada producto son:\n",
        "\n",
        "Ingrediente|Costo por gramo\n",
        ":----|----\n",
        "Pollo|$\\$$0.013\n",
        "Carne|$\\$$0.008\n",
        "Cordero|$\\$$0.010\n",
        "Arroz|$\\$$0.002\n",
        "Trigo|$\\$$0.005\n",
        "Gel|$\\$$0.001    \n",
        "\n",
        "Lo que se busca optimizar en este caso es la cantidad de productos que se debe utilizar en la comida de gato, minimizando el costo total. Para simplificar la notación use las siguientes variables: \n",
        "\n",
        "+ $x_1:$ Gramos de pollo  \n",
        "+ $x_2:$ Gramos de carne  \n",
        "+ $x_3:$ Gramos de cordero  \n",
        "+ $x_4:$ Gramos de arroz  \n",
        "+ $x_5:$ Gramos de trigo  \n",
        "+ $x_6:$ Gramos de gel\n",
        "\n",
        "La tarea consiste en plantear el problemade programación lineal que permita satisfacer las necesidades alimenticias del gato al tiempo que minimice el costo total y resolverlo con `linprog`."
      ]
    },
    {
      "cell_type": "code",
      "execution_count": 11,
      "metadata": {
        "id": "kwPX2lSC2hJN"
      },
      "outputs": [],
      "source": []
    },
    {
      "cell_type": "markdown",
      "source": [
        "1. Minimizar costo total\n",
        "2. Variables $$ X_!,X_2, X_3, X_4, X_5, X_6 $$\n",
        "3. Función de costo\n",
        "$$ 0.0013*X_1 + 0.008*X_2 + 0.01*X_3 + 0.002*X_4 + 0.005*X_5 + 0.001*X_6 $$\n",
        "4. Restricciones \n",
        "$$ -0.1X_1 - 0.2X_2 - 0.15X_3 - 0.04X_5 ≤ -8 $$\n",
        "$$ -0.08X_1 -0.1X_2 - 0.11X_3 - 0.01X_4 -0.01X_5 ≤ -6 $$\n",
        "$$ 0.0001X_1 + 0.005X_2 + 0.0005X_3 + 0.1X_4 + 0.15X_5 ≤ 2 $$\n",
        "$$ 0.002X_! + 0.0005X_2 + 0.007X_3 + 0.002X_4 + 0.008X_5 ≤ 0.4 $$"
      ],
      "metadata": {
        "id": "CShLKwzacVGU"
      }
    },
    {
      "cell_type": "code",
      "execution_count": 9,
      "metadata": {
        "colab": {
          "base_uri": "https://localhost:8080/"
        },
        "id": "IDHSsKYR2hJP",
        "outputId": "e8fcb612-4c20-46c1-b296-43849777ee8e"
      },
      "outputs": [
        {
          "output_type": "execute_result",
          "data": {
            "text/plain": [
              "     con: array([3.0325964e-11])\n",
              "     fun: 0.520000000021656\n",
              " message: 'Optimization terminated successfully.'\n",
              "     nit: 8\n",
              "   slack: array([4.00000000e+00, 7.70432607e-11, 1.70000000e+00, 1.00000000e-01])\n",
              "  status: 0\n",
              " success: True\n",
              "       x: array([4.50819667e-10, 6.00000000e+01, 4.08653403e-09, 2.29072689e-08,\n",
              "       3.70730009e-10, 4.00000000e+01])"
            ]
          },
          "metadata": {},
          "execution_count": 9
        }
      ],
      "source": [
        "import scipy.optimize as opt\n",
        "import numpy as np\n",
        "\n",
        "c = np.array([0.013,\n",
        "              0.008, \n",
        "              0.010,\n",
        "              0.002,\n",
        "              0.005,\n",
        "              0.001\n",
        "              ,])\n",
        "\n",
        "Aub = np.array([[-0.1,-0.2,-0.15,0,-0.04,0],\n",
        "                [-0.08,-0.1,-0.11,-0.01,-0.01,0],\n",
        "                [0.001,0.005,0.005,0.1,0.15,0],\n",
        "                [0.002,0.005,0.007,0.002,0.008,0]\n",
        "])\n",
        "\n",
        "bub = np.array([-8,\n",
        "                -6,\n",
        "                 2,\n",
        "                0.4,\n",
        "])\n",
        "\n",
        "Aeq = np.array([\n",
        "[1,\n",
        " 1,\n",
        " 1,\n",
        " 1,\n",
        " 1,\n",
        " 1]\n",
        "])\n",
        "\n",
        "beq = np.array([\n",
        "          [100]\n",
        "])\n",
        " \n",
        "opt.linprog(c, Aub, bub,Aeq,beq)"
      ]
    },
    {
      "cell_type": "markdown",
      "metadata": {
        "id": "LivQ6YTW2hJP"
      },
      "source": [
        "### Problema de distribución de energía eléctrica\n",
        "\n",
        "La Comisión Federal de Electricidad **(CFE)** dispone de cuatro plantas de generación para satisfacer la demanda diaria eléctrica en cuatro ciudades, Guadalajara, León y Morelia. Las plantas $1$, $2$ y $3$ pueden satisfacer $80$, $40$ y $60$ millones de KW al día respectivamente. Las necesidades de las ciudades de Guadalajara, León y Morelia son de $70$, $40$ y $70$ millones de Kw al día respectivamente. \n",
        "\n",
        "\n",
        "Los costos asociados al envío de suministro energético por cada millón de Kw entre cada planta y cada ciudad son los registrados en la siguiente tabla. \n",
        "\n",
        "-|Guadalajara|León|Morelia\n",
        ":----|----|----|----\n",
        "Planta 1|5|2|7\n",
        "Planta 2|3|6|6\n",
        "Planta 3|6|1|2\n",
        "\n",
        "Y por último, las restricciones del problema, van a estar dadas por las capacidades de oferta y demanda de cada planta (en millones de KW) y cada ciudad.\n",
        "\n",
        "Para simplificar la notación use las siguientes variables:\n",
        "\n",
        "+ $x_1$: Kw (en millones) distribuidos de la Planta 1 a Guadalajara\n",
        "+ $x_2$: Kw (en millones) distribuidos de la Planta 1 a León\n",
        "+ $x_3$: Kw (en millones) distribuidos de la Planta 1 a Morelia\n",
        "+ $x_4$: Kw (en millones) distribuidos de la Planta 2 a Guadalajara\n",
        "+ $x_5$: Kw (en millones) distribuidos de la Planta 2 a León\n",
        "+ $x_6$: Kw (en millones) distribuidos de la Planta 2 a Morelia\n",
        "+ $x_7$: Kw (en millones) distribuidos de la Planta 3 a Guadalajara\n",
        "+ $x_8$: Kw (en millones) distribuidos de la Planta 3 a León\n",
        "+ $x_9$: Kw (en millones) distribuidos de la Planta 3 a Morelia\n",
        "\n",
        "La tarea consiste en plantear el problema de programación lineal que permita satisfacer las necesidades de todas las ciudades al tiempo que minimice los costos asociados a la distribución y resolverlo con `linprog`."
      ]
    },
    {
      "cell_type": "code",
      "execution_count": 11,
      "metadata": {
        "id": "CSZKv3Kt2hJQ"
      },
      "outputs": [],
      "source": []
    },
    {
      "cell_type": "markdown",
      "source": [
        "1. Minimizar costo total\n",
        "2. Variables $$ X_!,X_2, X_3, X_4, X_5, X_6,X_7,X_8,X_9 $$\n",
        "3. Función de costo\n",
        "$$ 5X_1 + 2X_2 + 7X_3 + 3X_4 + 6X_5 + 6X_6 +6X_7 + X_8 + 2X_9 $$\n",
        "4. Restricciones \n",
        "$$ X_1 + X_2 X_3 ≤ 80 $$\n",
        "$$ X_4 + X_5 X_6 ≤ 40  $$\n",
        "$$ X_7 + X_8 X_9 ≤ 60  $$\n",
        "$$ X_1 + X_4 X_7 = 70  $$\n",
        "$$ X_2 + X_5 X_8 = 40  $$\n",
        "$$ X_3 + X_6 X_9 = 70  $$"
      ],
      "metadata": {
        "id": "muRlPtxHetk5"
      }
    },
    {
      "cell_type": "code",
      "execution_count": null,
      "metadata": {
        "id": "S6upup-i2hJR"
      },
      "outputs": [],
      "source": []
    },
    {
      "cell_type": "code",
      "execution_count": null,
      "metadata": {
        "id": "YJA5UJZA2hJR"
      },
      "outputs": [],
      "source": []
    },
    {
      "cell_type": "code",
      "execution_count": 11,
      "metadata": {
        "colab": {
          "base_uri": "https://localhost:8080/"
        },
        "id": "da-wEvQg2hJR",
        "outputId": "d708a40e-1767-4e8b-a62e-a5d944f43c68"
      },
      "outputs": [
        {
          "output_type": "stream",
          "name": "stderr",
          "text": [
            "<ipython-input-11-2ca87156932b>:32: OptimizeWarning: Solving system with option 'cholesky':True failed. It is normal for this to happen occasionally, especially as the solution is approached. However, if you see this frequently, consider setting option 'cholesky' to False.\n",
            "  opt.linprog(c, Aub, bub,Aeq,beq)\n",
            "<ipython-input-11-2ca87156932b>:32: OptimizeWarning: Solving system with option 'sym_pos':True failed. It is normal for this to happen occasionally, especially as the solution is approached. However, if you see this frequently, consider setting option 'sym_pos' to False.\n",
            "  opt.linprog(c, Aub, bub,Aeq,beq)\n",
            "/usr/local/lib/python3.8/dist-packages/scipy/optimize/_linprog_ip.py:117: LinAlgWarning: Ill-conditioned matrix (rcond=1.37653e-17): result may not be accurate.\n",
            "  return sp.linalg.solve(M, r, sym_pos=sym_pos)\n"
          ]
        },
        {
          "output_type": "execute_result",
          "data": {
            "text/plain": [
              "     con: array([1.74745196e-09, 9.65052038e-10, 1.74746617e-09])\n",
              "     fun: 539.9999999877246\n",
              " message: 'Optimization terminated successfully.'\n",
              "     nit: 6\n",
              "   slack: array([2.00704164e-09, 9.70779013e-10, 1.48216373e-09])\n",
              "  status: 0\n",
              " success: True\n",
              "       x: array([3.00000000e+01, 4.00000000e+01, 1.00000000e+01, 4.00000000e+01,\n",
              "       1.04673561e-10, 2.57854226e-11, 5.44965894e-11, 7.27350018e-11,\n",
              "       6.00000000e+01])"
            ]
          },
          "metadata": {},
          "execution_count": 11
        }
      ],
      "source": [
        "import scipy.optimize as opt\n",
        "import numpy as np\n",
        "\n",
        "c = np.array([5,\n",
        "              2,\n",
        "              7,\n",
        "              3,\n",
        "              6,\n",
        "              6,              \n",
        "              6,\n",
        "              1,\n",
        "              2\n",
        "              ,])\n",
        "\n",
        "Aub = np.array([\n",
        "    [1,1,1,0,0,0,0,0,0],\n",
        "    [0,0,0,1,1,1,0,0,0],\n",
        "    [0,0,0,0,0,0,1,1,1],\n",
        "])\n",
        "\n",
        "bub = np.array([80,\n",
        "                40,\n",
        "                60,\n",
        "               ])\n",
        "Aeq = np.array([\n",
        "    [1,0,0,1,0,0,1,0,0],\n",
        "    [0,1,0,0,1,0,0,1,0],\n",
        "    [0,0,1,0,0,1,0,0,1]\n",
        "])\n",
        "beq = np.array([70,                40,                70])\n",
        "\n",
        "opt.linprog(c, Aub, bub,Aeq,beq)"
      ]
    },
    {
      "cell_type": "markdown",
      "source": [],
      "metadata": {
        "id": "X3DUVGTjcSwc"
      }
    }
  ],
  "metadata": {
    "kernelspec": {
      "display_name": "Python 3 (ipykernel)",
      "language": "python",
      "name": "python3"
    },
    "language_info": {
      "codemirror_mode": {
        "name": "ipython",
        "version": 3
      },
      "file_extension": ".py",
      "mimetype": "text/x-python",
      "name": "python",
      "nbconvert_exporter": "python",
      "pygments_lexer": "ipython3",
      "version": "3.8.11"
    },
    "colab": {
      "provenance": [],
      "include_colab_link": true
    }
  },
  "nbformat": 4,
  "nbformat_minor": 0
}