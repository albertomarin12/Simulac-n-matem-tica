{
  "cells": [
    {
      "cell_type": "markdown",
      "metadata": {
        "id": "view-in-github",
        "colab_type": "text"
      },
      "source": [
        "<a href=\"https://colab.research.google.com/github/albertomarin12/Simulac-n-matem-tica/blob/main/06_Probabilidad_Precio_Umbral.ipynb\" target=\"_parent\"><img src=\"https://colab.research.google.com/assets/colab-badge.svg\" alt=\"Open In Colab\"/></a>"
      ]
    },
    {
      "cell_type": "markdown",
      "metadata": {
        "id": "kImyd0jNB0zG"
      },
      "source": [
        "# Aplicando Python para análisis de precios: simulación de escenarios futuros de precios\n",
        "\n",
        "<img style=\"float: right; margin: 0px 0px 15px 15px;\" src=\"https://upload.wikimedia.org/wikipedia/commons/d/d7/Philippine-stock-market-board.jpg\" width=\"400px\" height=\"125px\" />\n",
        "\n",
        "> En la clase anterior vimos como importar datos de activos de la base de datos de Yahoo Finance usando el paquete pandas-datareader. En esta clase, veremos como pronosticar escenarios de evolución de precios, suponiendo que los rendimientos diarios se distribuyen normalmente. Como esta evolución de precios es aleatoria, utilizaremos la simulación montecarlo (hacer muchas simulaciones de escenarios de evolución de precios) para obtener probabilidades de que los precios de cierre estén encima de un valor umbral y tomar decisiones con base en estas probabilidades.\n",
        "\n",
        "**Referencias:**\n",
        "- http://pandas.pydata.org/\n",
        "- http://www.learndatasci.com/python-finance-part-yahoo-finance-api-pandas-matplotlib/"
      ]
    },
    {
      "cell_type": "markdown",
      "metadata": {
        "id": "0gYlVylvB0zJ"
      },
      "source": [
        "## 1. Recordemos como descargar datos..."
      ]
    },
    {
      "cell_type": "markdown",
      "metadata": {
        "id": "qz81kWpEB0zK"
      },
      "source": [
        "Antes que nada, para poder hacer simular escenarios de predicción de precios, vamos a recordar lo que hicimos en la clase pasada de descargar los datos de Yahoo Finance, utilizando el paquete `data` de la librería `pandas_datareader`.\n",
        "\n",
        "Esta vez, utilizaremos los datos de precios de cierre ajustados de activos de la compañía Apple en el año 2016 para nuestra aplicación."
      ]
    },
    {
      "cell_type": "code",
      "execution_count": null,
      "metadata": {
        "id": "bxuQQJzmB0zL",
        "colab": {
          "base_uri": "https://localhost:8080/"
        },
        "outputId": "ed7f9dc1-1798-4416-a774-a46deb320a2c"
      },
      "outputs": [
        {
          "output_type": "stream",
          "name": "stdout",
          "text": [
            "Looking in indexes: https://pypi.org/simple, https://us-python.pkg.dev/colab-wheels/public/simple/\n",
            "Requirement already satisfied: yfinance in /usr/local/lib/python3.9/dist-packages (0.2.17)\n",
            "Requirement already satisfied: lxml>=4.9.1 in /usr/local/lib/python3.9/dist-packages (from yfinance) (4.9.2)\n",
            "Requirement already satisfied: requests>=2.26 in /usr/local/lib/python3.9/dist-packages (from yfinance) (2.27.1)\n",
            "Requirement already satisfied: beautifulsoup4>=4.11.1 in /usr/local/lib/python3.9/dist-packages (from yfinance) (4.11.2)\n",
            "Requirement already satisfied: pytz>=2022.5 in /usr/local/lib/python3.9/dist-packages (from yfinance) (2022.7.1)\n",
            "Requirement already satisfied: cryptography>=3.3.2 in /usr/local/lib/python3.9/dist-packages (from yfinance) (40.0.1)\n",
            "Requirement already satisfied: numpy>=1.16.5 in /usr/local/lib/python3.9/dist-packages (from yfinance) (1.22.4)\n",
            "Requirement already satisfied: frozendict>=2.3.4 in /usr/local/lib/python3.9/dist-packages (from yfinance) (2.3.7)\n",
            "Requirement already satisfied: html5lib>=1.1 in /usr/local/lib/python3.9/dist-packages (from yfinance) (1.1)\n",
            "Requirement already satisfied: appdirs>=1.4.4 in /usr/local/lib/python3.9/dist-packages (from yfinance) (1.4.4)\n",
            "Requirement already satisfied: multitasking>=0.0.7 in /usr/local/lib/python3.9/dist-packages (from yfinance) (0.0.11)\n",
            "Requirement already satisfied: pandas>=1.3.0 in /usr/local/lib/python3.9/dist-packages (from yfinance) (1.5.3)\n",
            "Requirement already satisfied: soupsieve>1.2 in /usr/local/lib/python3.9/dist-packages (from beautifulsoup4>=4.11.1->yfinance) (2.4)\n",
            "Requirement already satisfied: cffi>=1.12 in /usr/local/lib/python3.9/dist-packages (from cryptography>=3.3.2->yfinance) (1.15.1)\n",
            "Requirement already satisfied: six>=1.9 in /usr/local/lib/python3.9/dist-packages (from html5lib>=1.1->yfinance) (1.16.0)\n",
            "Requirement already satisfied: webencodings in /usr/local/lib/python3.9/dist-packages (from html5lib>=1.1->yfinance) (0.5.1)\n",
            "Requirement already satisfied: python-dateutil>=2.8.1 in /usr/local/lib/python3.9/dist-packages (from pandas>=1.3.0->yfinance) (2.8.2)\n",
            "Requirement already satisfied: certifi>=2017.4.17 in /usr/local/lib/python3.9/dist-packages (from requests>=2.26->yfinance) (2022.12.7)\n",
            "Requirement already satisfied: idna<4,>=2.5 in /usr/local/lib/python3.9/dist-packages (from requests>=2.26->yfinance) (3.4)\n",
            "Requirement already satisfied: urllib3<1.27,>=1.21.1 in /usr/local/lib/python3.9/dist-packages (from requests>=2.26->yfinance) (1.26.15)\n",
            "Requirement already satisfied: charset-normalizer~=2.0.0 in /usr/local/lib/python3.9/dist-packages (from requests>=2.26->yfinance) (2.0.12)\n",
            "Requirement already satisfied: pycparser in /usr/local/lib/python3.9/dist-packages (from cffi>=1.12->cryptography>=3.3.2->yfinance) (2.21)\n"
          ]
        }
      ],
      "source": [
        "# Instalación del paquete\n",
        "!pip install yfinance\n",
        "\n",
        "# conda install pandas-datareader\n",
        "# pip install pandas-datareader"
      ]
    },
    {
      "cell_type": "code",
      "execution_count": null,
      "metadata": {
        "id": "NV5JpukLB0zM"
      },
      "outputs": [],
      "source": [
        "import yfinance as yf\n",
        "import pandas_datareader.data as web\n",
        "import pandas as pd\n",
        "import numpy as np\n",
        "import matplotlib.pyplot as plt\n",
        "%matplotlib inline"
      ]
    },
    {
      "cell_type": "code",
      "execution_count": null,
      "metadata": {
        "id": "czFFwUJ8B0zM"
      },
      "outputs": [],
      "source": [
        "def getClose(names, start, end):\n",
        "    return yf.download(names, start=start, end=end)[\"Adj Close\"]\n",
        "\n",
        "def getHigh(names, start, end):\n",
        "    return yf.download(names, start=start, end=end)[\"High\"]\n",
        "\n",
        "def getLow(names, start, end):\n",
        "    return yf.download(names, start=start, end=end)[\"Low\"]"
      ]
    },
    {
      "cell_type": "code",
      "execution_count": null,
      "metadata": {
        "colab": {
          "base_uri": "https://localhost:8080/"
        },
        "id": "IlHAWu5gB0zN",
        "outputId": "7c203e64-9e7b-460d-d1c0-a2f7f51bba31"
      },
      "outputs": [
        {
          "output_type": "stream",
          "name": "stdout",
          "text": [
            "\r[*********************100%***********************]  1 of 1 completed\n"
          ]
        }
      ],
      "source": [
        "ticker = \"AAPL\"\n",
        "periodos = 252 # Cantidad en dias de simulaciones\n",
        "inicio = \"2020-01-01\" #inicio de datos\n",
        "final = \"2020-12-31\" #final de datos\n",
        "fecha = \"2021-01-01\" # Primer dato a simular\n",
        "ffinal = \"2021-12-31\" #ultimo dato a simular\n",
        "per = 252 # Datos futuros a simular\n",
        "data_aapl = getClose(ticker,inicio,final)\n",
        "#data_aapl.plot.hist()"
      ]
    },
    {
      "cell_type": "code",
      "source": [
        "data_aapl.describe()"
      ],
      "metadata": {
        "colab": {
          "base_uri": "https://localhost:8080/"
        },
        "id": "Elc1yuld1CwR",
        "outputId": "440a16aa-886f-47c3-da53-c5669f8261e7"
      },
      "execution_count": null,
      "outputs": [
        {
          "output_type": "execute_result",
          "data": {
            "text/plain": [
              "count    252.000000\n",
              "mean      93.625825\n",
              "std       21.576295\n",
              "min       54.999001\n",
              "25%       75.711456\n",
              "50%       89.881687\n",
              "75%      113.974527\n",
              "max      134.862671\n",
              "Name: Adj Close, dtype: float64"
            ]
          },
          "metadata": {},
          "execution_count": 9
        }
      ]
    },
    {
      "cell_type": "code",
      "execution_count": null,
      "metadata": {
        "id": "g-Em_Df8B0zQ"
      },
      "outputs": [],
      "source": [
        "R = (data_aapl - data_aapl.shift())/data_aapl.shift()\n",
        "r = np.log(data_aapl/data_aapl.shift())\n",
        "\n",
        "#r.plot.hist(alpha = 0.5)\n",
        "#R.plot.hist(alpha = 0.5)\n"
      ]
    },
    {
      "cell_type": "code",
      "execution_count": null,
      "metadata": {
        "id": "Aumj1wSmB0zS"
      },
      "outputs": [],
      "source": [
        "R_aapl_mean = R.mean()\n",
        "R_aapl_std = R.std()\n"
      ]
    },
    {
      "cell_type": "code",
      "execution_count": null,
      "metadata": {
        "id": "PAHJFQpxB0zU"
      },
      "outputs": [],
      "source": [
        "def sim_r(media, std, inicio, dias, N):\n",
        "    # media \n",
        "    # desviación estándar\n",
        "    # desde qué fecha inicio a simular\n",
        "    # cuántos días voy a simular\n",
        "    # N: cuántas simulaciones\n",
        "    r = np.random.normal(media, std, size=(dias, N))\n",
        "    fechas = pd.date_range(inicio, periods=dias)\n",
        "    return pd.DataFrame(index = fechas, data = r)\n",
        "r_simulados = sim_r(R_aapl_mean, R_aapl_std, fecha, per, 1000)"
      ]
    },
    {
      "cell_type": "code",
      "execution_count": null,
      "metadata": {
        "scrolled": false,
        "colab": {
          "base_uri": "https://localhost:8080/",
          "height": 661
        },
        "id": "ih9Oq4h1B0zU",
        "outputId": "e485bd30-4e1b-4e6a-f909-d4be7ad5b291"
      },
      "outputs": [
        {
          "output_type": "execute_result",
          "data": {
            "text/plain": [
              "                   0           1           2           3           4    \\\n",
              "2021-01-01  126.185167  128.102001  130.140159  132.427425  131.117533   \n",
              "2021-01-02  127.067604  132.681573  125.940381  133.090264  123.184381   \n",
              "2021-01-03  122.992481  136.136861  128.418787  134.956591  121.493941   \n",
              "2021-01-04  119.245916  130.871572  127.363580  131.895541  121.018222   \n",
              "2021-01-05  120.012540  134.486254  126.153558  129.181387  119.946706   \n",
              "...                ...         ...         ...         ...         ...   \n",
              "2021-09-05  154.640632  267.959582  205.843021  297.214706  286.989257   \n",
              "2021-09-06  159.348337  272.387224  207.859158  299.141607  288.405907   \n",
              "2021-09-07  154.354408  271.256565  222.728917  296.568352  285.450187   \n",
              "2021-09-08  153.648658  280.233138  233.302589  296.924954  289.115225   \n",
              "2021-09-09  159.351449  268.454639  226.219914  286.502994  280.356000   \n",
              "\n",
              "                   5           6           7           8           9    ...  \\\n",
              "2021-01-01  137.870519  139.558564  129.098213  129.278546  134.093093  ...   \n",
              "2021-01-02  138.320129  146.525021  125.404939  132.015084  132.957447  ...   \n",
              "2021-01-03  140.315964  154.854294  122.686501  131.978168  127.859358  ...   \n",
              "2021-01-04  139.792535  153.359642  120.348959  129.435620  135.267681  ...   \n",
              "2021-01-05  139.039236  154.640278  121.565278  131.104347  137.860101  ...   \n",
              "...                ...         ...         ...         ...         ...  ...   \n",
              "2021-09-05   85.379059  286.681357  142.045537  140.342738  457.108637  ...   \n",
              "2021-09-06   86.063615  285.571525  135.991892  138.544304  460.193187  ...   \n",
              "2021-09-07   84.743639  299.204104  135.837665  138.121015  452.852189  ...   \n",
              "2021-09-08   86.104396  305.772289  134.863601  139.123606  436.824843  ...   \n",
              "2021-09-09   84.101256  304.695910  131.808079  139.950646  442.997042  ...   \n",
              "\n",
              "                   990         991         992         993         994  \\\n",
              "2021-01-01  134.587893  130.389490  133.587190  135.887262  130.909701   \n",
              "2021-01-02  131.084815  125.361816  134.191102  139.074523  133.663935   \n",
              "2021-01-03  142.755472  125.729723  136.998019  140.980596  135.525028   \n",
              "2021-01-04  138.560716  123.436999  132.170371  141.267574  137.219812   \n",
              "2021-01-05  142.726401  122.590667  134.567267  134.487509  136.263123   \n",
              "...                ...         ...         ...         ...         ...   \n",
              "2021-09-05  147.429720  464.434450   79.786657  215.069843  316.901292   \n",
              "2021-09-06  147.657959  446.903472   79.318412  208.780499  304.111019   \n",
              "2021-09-07  150.245922  443.565043   78.539918  209.716171  311.447848   \n",
              "2021-09-08  152.501249  445.619396   77.052930  211.443434  311.672327   \n",
              "2021-09-09  154.765663  436.872890   81.761856  211.007579  320.796916   \n",
              "\n",
              "                   995         996         997         998         999  \n",
              "2021-01-01  132.248653  136.506471  131.223284  132.342428  131.792042  \n",
              "2021-01-02  132.702732  138.568442  131.015013  133.494087  133.041273  \n",
              "2021-01-03  138.381603  136.000055  129.356259  136.816129  132.418855  \n",
              "2021-01-04  137.604695  138.027664  135.052623  135.175940  131.204872  \n",
              "2021-01-05  139.487148  141.128724  139.806259  132.901135  129.064709  \n",
              "...                ...         ...         ...         ...         ...  \n",
              "2021-09-05  225.841132  508.824081  419.649030  159.373318  305.098885  \n",
              "2021-09-06  226.172858  492.232472  421.812983  167.872346  315.162793  \n",
              "2021-09-07  229.921167  493.879292  404.834531  172.792119  347.933932  \n",
              "2021-09-08  232.838356  469.607066  407.736246  173.472931  324.386494  \n",
              "2021-09-09  236.416873  468.324246  402.785304  172.636623  335.929844  \n",
              "\n",
              "[252 rows x 1000 columns]"
            ],
            "text/html": [
              "\n",
              "  <div id=\"df-3dd1b405-fbae-4305-b1fd-e21d42b813dc\">\n",
              "    <div class=\"colab-df-container\">\n",
              "      <div>\n",
              "<style scoped>\n",
              "    .dataframe tbody tr th:only-of-type {\n",
              "        vertical-align: middle;\n",
              "    }\n",
              "\n",
              "    .dataframe tbody tr th {\n",
              "        vertical-align: top;\n",
              "    }\n",
              "\n",
              "    .dataframe thead th {\n",
              "        text-align: right;\n",
              "    }\n",
              "</style>\n",
              "<table border=\"1\" class=\"dataframe\">\n",
              "  <thead>\n",
              "    <tr style=\"text-align: right;\">\n",
              "      <th></th>\n",
              "      <th>0</th>\n",
              "      <th>1</th>\n",
              "      <th>2</th>\n",
              "      <th>3</th>\n",
              "      <th>4</th>\n",
              "      <th>5</th>\n",
              "      <th>6</th>\n",
              "      <th>7</th>\n",
              "      <th>8</th>\n",
              "      <th>9</th>\n",
              "      <th>...</th>\n",
              "      <th>990</th>\n",
              "      <th>991</th>\n",
              "      <th>992</th>\n",
              "      <th>993</th>\n",
              "      <th>994</th>\n",
              "      <th>995</th>\n",
              "      <th>996</th>\n",
              "      <th>997</th>\n",
              "      <th>998</th>\n",
              "      <th>999</th>\n",
              "    </tr>\n",
              "  </thead>\n",
              "  <tbody>\n",
              "    <tr>\n",
              "      <th>2021-01-01</th>\n",
              "      <td>126.185167</td>\n",
              "      <td>128.102001</td>\n",
              "      <td>130.140159</td>\n",
              "      <td>132.427425</td>\n",
              "      <td>131.117533</td>\n",
              "      <td>137.870519</td>\n",
              "      <td>139.558564</td>\n",
              "      <td>129.098213</td>\n",
              "      <td>129.278546</td>\n",
              "      <td>134.093093</td>\n",
              "      <td>...</td>\n",
              "      <td>134.587893</td>\n",
              "      <td>130.389490</td>\n",
              "      <td>133.587190</td>\n",
              "      <td>135.887262</td>\n",
              "      <td>130.909701</td>\n",
              "      <td>132.248653</td>\n",
              "      <td>136.506471</td>\n",
              "      <td>131.223284</td>\n",
              "      <td>132.342428</td>\n",
              "      <td>131.792042</td>\n",
              "    </tr>\n",
              "    <tr>\n",
              "      <th>2021-01-02</th>\n",
              "      <td>127.067604</td>\n",
              "      <td>132.681573</td>\n",
              "      <td>125.940381</td>\n",
              "      <td>133.090264</td>\n",
              "      <td>123.184381</td>\n",
              "      <td>138.320129</td>\n",
              "      <td>146.525021</td>\n",
              "      <td>125.404939</td>\n",
              "      <td>132.015084</td>\n",
              "      <td>132.957447</td>\n",
              "      <td>...</td>\n",
              "      <td>131.084815</td>\n",
              "      <td>125.361816</td>\n",
              "      <td>134.191102</td>\n",
              "      <td>139.074523</td>\n",
              "      <td>133.663935</td>\n",
              "      <td>132.702732</td>\n",
              "      <td>138.568442</td>\n",
              "      <td>131.015013</td>\n",
              "      <td>133.494087</td>\n",
              "      <td>133.041273</td>\n",
              "    </tr>\n",
              "    <tr>\n",
              "      <th>2021-01-03</th>\n",
              "      <td>122.992481</td>\n",
              "      <td>136.136861</td>\n",
              "      <td>128.418787</td>\n",
              "      <td>134.956591</td>\n",
              "      <td>121.493941</td>\n",
              "      <td>140.315964</td>\n",
              "      <td>154.854294</td>\n",
              "      <td>122.686501</td>\n",
              "      <td>131.978168</td>\n",
              "      <td>127.859358</td>\n",
              "      <td>...</td>\n",
              "      <td>142.755472</td>\n",
              "      <td>125.729723</td>\n",
              "      <td>136.998019</td>\n",
              "      <td>140.980596</td>\n",
              "      <td>135.525028</td>\n",
              "      <td>138.381603</td>\n",
              "      <td>136.000055</td>\n",
              "      <td>129.356259</td>\n",
              "      <td>136.816129</td>\n",
              "      <td>132.418855</td>\n",
              "    </tr>\n",
              "    <tr>\n",
              "      <th>2021-01-04</th>\n",
              "      <td>119.245916</td>\n",
              "      <td>130.871572</td>\n",
              "      <td>127.363580</td>\n",
              "      <td>131.895541</td>\n",
              "      <td>121.018222</td>\n",
              "      <td>139.792535</td>\n",
              "      <td>153.359642</td>\n",
              "      <td>120.348959</td>\n",
              "      <td>129.435620</td>\n",
              "      <td>135.267681</td>\n",
              "      <td>...</td>\n",
              "      <td>138.560716</td>\n",
              "      <td>123.436999</td>\n",
              "      <td>132.170371</td>\n",
              "      <td>141.267574</td>\n",
              "      <td>137.219812</td>\n",
              "      <td>137.604695</td>\n",
              "      <td>138.027664</td>\n",
              "      <td>135.052623</td>\n",
              "      <td>135.175940</td>\n",
              "      <td>131.204872</td>\n",
              "    </tr>\n",
              "    <tr>\n",
              "      <th>2021-01-05</th>\n",
              "      <td>120.012540</td>\n",
              "      <td>134.486254</td>\n",
              "      <td>126.153558</td>\n",
              "      <td>129.181387</td>\n",
              "      <td>119.946706</td>\n",
              "      <td>139.039236</td>\n",
              "      <td>154.640278</td>\n",
              "      <td>121.565278</td>\n",
              "      <td>131.104347</td>\n",
              "      <td>137.860101</td>\n",
              "      <td>...</td>\n",
              "      <td>142.726401</td>\n",
              "      <td>122.590667</td>\n",
              "      <td>134.567267</td>\n",
              "      <td>134.487509</td>\n",
              "      <td>136.263123</td>\n",
              "      <td>139.487148</td>\n",
              "      <td>141.128724</td>\n",
              "      <td>139.806259</td>\n",
              "      <td>132.901135</td>\n",
              "      <td>129.064709</td>\n",
              "    </tr>\n",
              "    <tr>\n",
              "      <th>...</th>\n",
              "      <td>...</td>\n",
              "      <td>...</td>\n",
              "      <td>...</td>\n",
              "      <td>...</td>\n",
              "      <td>...</td>\n",
              "      <td>...</td>\n",
              "      <td>...</td>\n",
              "      <td>...</td>\n",
              "      <td>...</td>\n",
              "      <td>...</td>\n",
              "      <td>...</td>\n",
              "      <td>...</td>\n",
              "      <td>...</td>\n",
              "      <td>...</td>\n",
              "      <td>...</td>\n",
              "      <td>...</td>\n",
              "      <td>...</td>\n",
              "      <td>...</td>\n",
              "      <td>...</td>\n",
              "      <td>...</td>\n",
              "      <td>...</td>\n",
              "    </tr>\n",
              "    <tr>\n",
              "      <th>2021-09-05</th>\n",
              "      <td>154.640632</td>\n",
              "      <td>267.959582</td>\n",
              "      <td>205.843021</td>\n",
              "      <td>297.214706</td>\n",
              "      <td>286.989257</td>\n",
              "      <td>85.379059</td>\n",
              "      <td>286.681357</td>\n",
              "      <td>142.045537</td>\n",
              "      <td>140.342738</td>\n",
              "      <td>457.108637</td>\n",
              "      <td>...</td>\n",
              "      <td>147.429720</td>\n",
              "      <td>464.434450</td>\n",
              "      <td>79.786657</td>\n",
              "      <td>215.069843</td>\n",
              "      <td>316.901292</td>\n",
              "      <td>225.841132</td>\n",
              "      <td>508.824081</td>\n",
              "      <td>419.649030</td>\n",
              "      <td>159.373318</td>\n",
              "      <td>305.098885</td>\n",
              "    </tr>\n",
              "    <tr>\n",
              "      <th>2021-09-06</th>\n",
              "      <td>159.348337</td>\n",
              "      <td>272.387224</td>\n",
              "      <td>207.859158</td>\n",
              "      <td>299.141607</td>\n",
              "      <td>288.405907</td>\n",
              "      <td>86.063615</td>\n",
              "      <td>285.571525</td>\n",
              "      <td>135.991892</td>\n",
              "      <td>138.544304</td>\n",
              "      <td>460.193187</td>\n",
              "      <td>...</td>\n",
              "      <td>147.657959</td>\n",
              "      <td>446.903472</td>\n",
              "      <td>79.318412</td>\n",
              "      <td>208.780499</td>\n",
              "      <td>304.111019</td>\n",
              "      <td>226.172858</td>\n",
              "      <td>492.232472</td>\n",
              "      <td>421.812983</td>\n",
              "      <td>167.872346</td>\n",
              "      <td>315.162793</td>\n",
              "    </tr>\n",
              "    <tr>\n",
              "      <th>2021-09-07</th>\n",
              "      <td>154.354408</td>\n",
              "      <td>271.256565</td>\n",
              "      <td>222.728917</td>\n",
              "      <td>296.568352</td>\n",
              "      <td>285.450187</td>\n",
              "      <td>84.743639</td>\n",
              "      <td>299.204104</td>\n",
              "      <td>135.837665</td>\n",
              "      <td>138.121015</td>\n",
              "      <td>452.852189</td>\n",
              "      <td>...</td>\n",
              "      <td>150.245922</td>\n",
              "      <td>443.565043</td>\n",
              "      <td>78.539918</td>\n",
              "      <td>209.716171</td>\n",
              "      <td>311.447848</td>\n",
              "      <td>229.921167</td>\n",
              "      <td>493.879292</td>\n",
              "      <td>404.834531</td>\n",
              "      <td>172.792119</td>\n",
              "      <td>347.933932</td>\n",
              "    </tr>\n",
              "    <tr>\n",
              "      <th>2021-09-08</th>\n",
              "      <td>153.648658</td>\n",
              "      <td>280.233138</td>\n",
              "      <td>233.302589</td>\n",
              "      <td>296.924954</td>\n",
              "      <td>289.115225</td>\n",
              "      <td>86.104396</td>\n",
              "      <td>305.772289</td>\n",
              "      <td>134.863601</td>\n",
              "      <td>139.123606</td>\n",
              "      <td>436.824843</td>\n",
              "      <td>...</td>\n",
              "      <td>152.501249</td>\n",
              "      <td>445.619396</td>\n",
              "      <td>77.052930</td>\n",
              "      <td>211.443434</td>\n",
              "      <td>311.672327</td>\n",
              "      <td>232.838356</td>\n",
              "      <td>469.607066</td>\n",
              "      <td>407.736246</td>\n",
              "      <td>173.472931</td>\n",
              "      <td>324.386494</td>\n",
              "    </tr>\n",
              "    <tr>\n",
              "      <th>2021-09-09</th>\n",
              "      <td>159.351449</td>\n",
              "      <td>268.454639</td>\n",
              "      <td>226.219914</td>\n",
              "      <td>286.502994</td>\n",
              "      <td>280.356000</td>\n",
              "      <td>84.101256</td>\n",
              "      <td>304.695910</td>\n",
              "      <td>131.808079</td>\n",
              "      <td>139.950646</td>\n",
              "      <td>442.997042</td>\n",
              "      <td>...</td>\n",
              "      <td>154.765663</td>\n",
              "      <td>436.872890</td>\n",
              "      <td>81.761856</td>\n",
              "      <td>211.007579</td>\n",
              "      <td>320.796916</td>\n",
              "      <td>236.416873</td>\n",
              "      <td>468.324246</td>\n",
              "      <td>402.785304</td>\n",
              "      <td>172.636623</td>\n",
              "      <td>335.929844</td>\n",
              "    </tr>\n",
              "  </tbody>\n",
              "</table>\n",
              "<p>252 rows × 1000 columns</p>\n",
              "</div>\n",
              "      <button class=\"colab-df-convert\" onclick=\"convertToInteractive('df-3dd1b405-fbae-4305-b1fd-e21d42b813dc')\"\n",
              "              title=\"Convert this dataframe to an interactive table.\"\n",
              "              style=\"display:none;\">\n",
              "        \n",
              "  <svg xmlns=\"http://www.w3.org/2000/svg\" height=\"24px\"viewBox=\"0 0 24 24\"\n",
              "       width=\"24px\">\n",
              "    <path d=\"M0 0h24v24H0V0z\" fill=\"none\"/>\n",
              "    <path d=\"M18.56 5.44l.94 2.06.94-2.06 2.06-.94-2.06-.94-.94-2.06-.94 2.06-2.06.94zm-11 1L8.5 8.5l.94-2.06 2.06-.94-2.06-.94L8.5 2.5l-.94 2.06-2.06.94zm10 10l.94 2.06.94-2.06 2.06-.94-2.06-.94-.94-2.06-.94 2.06-2.06.94z\"/><path d=\"M17.41 7.96l-1.37-1.37c-.4-.4-.92-.59-1.43-.59-.52 0-1.04.2-1.43.59L10.3 9.45l-7.72 7.72c-.78.78-.78 2.05 0 2.83L4 21.41c.39.39.9.59 1.41.59.51 0 1.02-.2 1.41-.59l7.78-7.78 2.81-2.81c.8-.78.8-2.07 0-2.86zM5.41 20L4 18.59l7.72-7.72 1.47 1.35L5.41 20z\"/>\n",
              "  </svg>\n",
              "      </button>\n",
              "      \n",
              "  <style>\n",
              "    .colab-df-container {\n",
              "      display:flex;\n",
              "      flex-wrap:wrap;\n",
              "      gap: 12px;\n",
              "    }\n",
              "\n",
              "    .colab-df-convert {\n",
              "      background-color: #E8F0FE;\n",
              "      border: none;\n",
              "      border-radius: 50%;\n",
              "      cursor: pointer;\n",
              "      display: none;\n",
              "      fill: #1967D2;\n",
              "      height: 32px;\n",
              "      padding: 0 0 0 0;\n",
              "      width: 32px;\n",
              "    }\n",
              "\n",
              "    .colab-df-convert:hover {\n",
              "      background-color: #E2EBFA;\n",
              "      box-shadow: 0px 1px 2px rgba(60, 64, 67, 0.3), 0px 1px 3px 1px rgba(60, 64, 67, 0.15);\n",
              "      fill: #174EA6;\n",
              "    }\n",
              "\n",
              "    [theme=dark] .colab-df-convert {\n",
              "      background-color: #3B4455;\n",
              "      fill: #D2E3FC;\n",
              "    }\n",
              "\n",
              "    [theme=dark] .colab-df-convert:hover {\n",
              "      background-color: #434B5C;\n",
              "      box-shadow: 0px 1px 3px 1px rgba(0, 0, 0, 0.15);\n",
              "      filter: drop-shadow(0px 1px 2px rgba(0, 0, 0, 0.3));\n",
              "      fill: #FFFFFF;\n",
              "    }\n",
              "  </style>\n",
              "\n",
              "      <script>\n",
              "        const buttonEl =\n",
              "          document.querySelector('#df-3dd1b405-fbae-4305-b1fd-e21d42b813dc button.colab-df-convert');\n",
              "        buttonEl.style.display =\n",
              "          google.colab.kernel.accessAllowed ? 'block' : 'none';\n",
              "\n",
              "        async function convertToInteractive(key) {\n",
              "          const element = document.querySelector('#df-3dd1b405-fbae-4305-b1fd-e21d42b813dc');\n",
              "          const dataTable =\n",
              "            await google.colab.kernel.invokeFunction('convertToInteractive',\n",
              "                                                     [key], {});\n",
              "          if (!dataTable) return;\n",
              "\n",
              "          const docLinkHtml = 'Like what you see? Visit the ' +\n",
              "            '<a target=\"_blank\" href=https://colab.research.google.com/notebooks/data_table.ipynb>data table notebook</a>'\n",
              "            + ' to learn more about interactive tables.';\n",
              "          element.innerHTML = '';\n",
              "          dataTable['output_type'] = 'display_data';\n",
              "          await google.colab.output.renderOutput(dataTable, element);\n",
              "          const docLink = document.createElement('div');\n",
              "          docLink.innerHTML = docLinkHtml;\n",
              "          element.appendChild(docLink);\n",
              "        }\n",
              "      </script>\n",
              "    </div>\n",
              "  </div>\n",
              "  "
            ]
          },
          "metadata": {},
          "execution_count": 13
        }
      ],
      "source": [
        "precios_simulados = (r_simulados + 1).cumprod()*data_aapl[-1] # r_simulados son cumprod es producto acumulado\n",
        "precios_simulados"
      ]
    },
    {
      "cell_type": "code",
      "source": [],
      "metadata": {
        "id": "w6gBZqgy-u3h"
      },
      "execution_count": null,
      "outputs": []
    },
    {
      "cell_type": "code",
      "execution_count": null,
      "metadata": {
        "id": "643z-osAB0zU"
      },
      "outputs": [],
      "source": [
        "#precios_simulados = (r_simulados + 1).cumprod()*data_aapl[-1]\n",
        "#precios_simulados.plot()"
      ]
    },
    {
      "cell_type": "code",
      "source": [
        "((r_simulados + 1).cumprod()*data_aapl[-1]).mean(axis=1).plot()\n",
        "data = getClose(ticker,fecha,ffinal)\n",
        "data.plot()\n"
      ],
      "metadata": {
        "colab": {
          "base_uri": "https://localhost:8080/",
          "height": 501
        },
        "id": "0sSr3tTvkjGv",
        "outputId": "cace781e-e6b5-40e1-80ce-1cb3b31c8905"
      },
      "execution_count": null,
      "outputs": [
        {
          "output_type": "stream",
          "name": "stdout",
          "text": [
            "\r[*********************100%***********************]  1 of 1 completed\n"
          ]
        },
        {
          "output_type": "execute_result",
          "data": {
            "text/plain": [
              "<Axes: xlabel='Date'>"
            ]
          },
          "metadata": {},
          "execution_count": 14
        },
        {
          "output_type": "display_data",
          "data": {
            "text/plain": [
              "<Figure size 640x480 with 1 Axes>"
            ],
            "image/png": "[encoded data removed]"
          },
          "metadata": {}
        }
      ]
    },
    {
      "cell_type": "code",
      "source": [
        "((r_simulados + 1).cumprod()).mean(axis=1)"
      ],
      "metadata": {
        "colab": {
          "base_uri": "https://localhost:8080/"
        },
        "id": "CshAkyFUbl2W",
        "outputId": "d910a75b-7e47-44ed-af2d-b0228db1f6fc"
      },
      "execution_count": null,
      "outputs": [
        {
          "output_type": "execute_result",
          "data": {
            "text/plain": [
              "2021-02-04    1.011406\n",
              "2021-02-05    1.015855\n",
              "2021-02-06    1.021139\n",
              "2021-02-07    1.025596\n",
              "2021-02-08    1.031935\n",
              "2021-02-09    1.039994\n",
              "2021-02-10    1.047034\n",
              "2021-02-11    1.050809\n",
              "2021-02-12    1.055589\n",
              "Freq: D, dtype: float64"
            ]
          },
          "metadata": {},
          "execution_count": 13
        }
      ]
    },
    {
      "cell_type": "code",
      "source": [
        "((r_simulados + 1).cumprod()*data_aapl[-1]).mean(axis=1)"
      ],
      "metadata": {
        "colab": {
          "base_uri": "https://localhost:8080/"
        },
        "id": "afnkmA7fbb80",
        "outputId": "14cba652-2af7-4018-9abe-9382dbe95a59"
      },
      "execution_count": null,
      "outputs": [
        {
          "output_type": "execute_result",
          "data": {
            "text/plain": [
              "2021-02-04    56.406107\n",
              "2021-02-05    56.654241\n",
              "2021-02-06    56.948927\n",
              "2021-02-07    57.197466\n",
              "2021-02-08    57.551028\n",
              "2021-02-09    58.000475\n",
              "2021-02-10    58.393101\n",
              "2021-02-11    58.603646\n",
              "2021-02-12    58.870213\n",
              "Freq: D, dtype: float64"
            ]
          },
          "metadata": {},
          "execution_count": 14
        }
      ]
    },
    {
      "cell_type": "code",
      "source": [
        "data"
      ],
      "metadata": {
        "colab": {
          "base_uri": "https://localhost:8080/"
        },
        "id": "RVdIqKTQbXx7",
        "outputId": "e0268e80-afb5-41eb-afdc-e6076cab0c23"
      },
      "execution_count": null,
      "outputs": [
        {
          "output_type": "execute_result",
          "data": {
            "text/plain": [
              "Date\n",
              "2021-02-04    57.599998\n",
              "2021-02-05    56.669998\n",
              "2021-02-08    59.070000\n",
              "2021-02-09    62.840000\n",
              "2021-02-10    61.259998\n",
              "2021-02-11    60.270000\n",
              "2021-02-12    59.849998\n",
              "Name: Adj Close, dtype: float64"
            ]
          },
          "metadata": {},
          "execution_count": 15
        }
      ]
    },
    {
      "cell_type": "code",
      "execution_count": null,
      "metadata": {
        "scrolled": true,
        "colab": {
          "base_uri": "https://localhost:8080/"
        },
        "id": "2qACsH8JB0zV",
        "outputId": "6cece1f2-6db0-44c1-96db-f32d31f5568e"
      },
      "outputs": [
        {
          "output_type": "stream",
          "name": "stdout",
          "text": [
            "ERROR 1.6643146288052524 %\n"
          ]
        }
      ],
      "source": [
        "D = data[-1]\n",
        "d = precios_simulados.mean(axis=1)[-1]\n",
        "print(\"ERROR\",((D/d)-1)*100,\"%\")"
      ]
    },
    {
      "cell_type": "code",
      "execution_count": null,
      "metadata": {
        "id": "sK14n0cAB0zV",
        "colab": {
          "base_uri": "https://localhost:8080/"
        },
        "outputId": "d4486061-ebaa-46f9-98dc-bc6d8fe83050"
      },
      "outputs": [
        {
          "output_type": "execute_result",
          "data": {
            "text/plain": [
              "count     7.000000\n",
              "mean     59.651428\n",
              "std       2.106019\n",
              "min      56.669998\n",
              "25%      58.334999\n",
              "50%      59.849998\n",
              "75%      60.764999\n",
              "max      62.840000\n",
              "Name: Adj Close, dtype: float64"
            ]
          },
          "metadata": {},
          "execution_count": 17
        }
      ],
      "source": [
        "data.describe()"
      ]
    },
    {
      "cell_type": "code",
      "execution_count": null,
      "metadata": {
        "colab": {
          "base_uri": "https://localhost:8080/"
        },
        "id": "jmzD4EE6B0zV",
        "outputId": "a2077efd-f32c-4a00-8f4b-310b86951feb"
      },
      "outputs": [
        {
          "output_type": "execute_result",
          "data": {
            "text/plain": [
              "DatetimeIndex(['2023-03-01', '2023-03-02', '2023-03-03', '2023-03-04',\n",
              "               '2023-03-05', '2023-03-06', '2023-03-07', '2023-03-08',\n",
              "               '2023-03-09', '2023-03-10', '2023-03-11', '2023-03-12',\n",
              "               '2023-03-13', '2023-03-14', '2023-03-15', '2023-03-16',\n",
              "               '2023-03-17'],\n",
              "              dtype='datetime64[ns]', freq='D')"
            ]
          },
          "metadata": {},
          "execution_count": 18
        }
      ],
      "source": [
        "pd.date_range(start=\"2023-03-01\", periods = 17)"
      ]
    },
    {
      "cell_type": "code",
      "execution_count": null,
      "metadata": {
        "id": "-bC6XrMQB0zV"
      },
      "outputs": [],
      "source": []
    },
    {
      "cell_type": "markdown",
      "metadata": {
        "id": "A-ZbGTwMB0zW"
      },
      "source": [
        "## 3. Proyección de precios de cierre"
      ]
    },
    {
      "cell_type": "markdown",
      "metadata": {
        "id": "K8n-0YT2B0zW"
      },
      "source": [
        "Por tanto, para calcular los precios, tenemos:\n",
        "\n",
        "$$\\begin{align}\n",
        "p_i&=p_{i-1}(R_i+1)\\\\\n",
        "p_{i+1}&=p_i(R_{i+1}+1)=p_{i-1}(R_i+1)(R_{i+1}+1)\\\\\n",
        "&\\vdots\\\\\n",
        "p_{i+k}&=p_{i-1}(R_i+1)\\cdots(R_{i+k}+1).\n",
        "\\end{align}$$\n",
        "\n",
        "Si hacemos $i=0$ en la última ecuación, tenemos que $p_{k}=p_{-1}(R_0+1)\\cdots(R_{k}+1)$, donde $p_{-1}$ es el último precio reportado en el 2018."
      ]
    },
    {
      "cell_type": "markdown",
      "metadata": {
        "id": "jqlA6XB-B0zW"
      },
      "source": [
        "Con los rendimientos, calculamos los precios de cierre..."
      ]
    },
    {
      "cell_type": "code",
      "execution_count": null,
      "metadata": {
        "id": "mv7m0ctSB0zW"
      },
      "outputs": [],
      "source": []
    },
    {
      "cell_type": "code",
      "execution_count": null,
      "metadata": {
        "id": "y55soxZEB0zW"
      },
      "outputs": [],
      "source": []
    },
    {
      "cell_type": "code",
      "execution_count": null,
      "metadata": {
        "id": "cLVA7jvyB0zX"
      },
      "outputs": [],
      "source": []
    },
    {
      "cell_type": "markdown",
      "metadata": {
        "id": "ULTeSDoNB0zX"
      },
      "source": [
        "## 4. Probabilidad Precio-Umbral\n",
        "\n",
        "Ya que tenemos muchos escenarios de precios proyectados, podemos ver varias cosas. Por ejemplo, ¿cuál es la probabilidad de que el precio de cierre sobrepase algún valor umbral en algún momento?"
      ]
    },
    {
      "cell_type": "code",
      "execution_count": null,
      "metadata": {
        "colab": {
          "base_uri": "https://localhost:8080/",
          "height": 236
        },
        "id": "bhIWorHMB0zX",
        "outputId": "01d6a511-ffa5-43f0-d1ce-c6094aa18392"
      },
      "outputs": [
        {
          "output_type": "error",
          "ename": "NameError",
          "evalue": "ignored",
          "traceback": [
            "\u001b[0;31m---------------------------------------------------------------------------\u001b[0m",
            "\u001b[0;31mNameError\u001b[0m                                 Traceback (most recent call last)",
            "\u001b[0;32m<ipython-input-1-0b2ae0b8344d>\u001b[0m in \u001b[0;36m<cell line: 3>\u001b[0;34m()\u001b[0m\n\u001b[1;32m      1\u001b[0m \u001b[0mvalor_deseado\u001b[0m \u001b[0;34m=\u001b[0m \u001b[0;36m180\u001b[0m\u001b[0;34m\u001b[0m\u001b[0;34m\u001b[0m\u001b[0m\n\u001b[1;32m      2\u001b[0m \u001b[0;31m#data_aapl[-1]*1.10\u001b[0m\u001b[0;34m\u001b[0m\u001b[0;34m\u001b[0m\u001b[0m\n\u001b[0;32m----> 3\u001b[0;31m \u001b[0mprobabilidad\u001b[0m \u001b[0;34m=\u001b[0m \u001b[0;34m(\u001b[0m\u001b[0mprecios_simulados\u001b[0m \u001b[0;34m>=\u001b[0m \u001b[0mvalor_deseado\u001b[0m\u001b[0;34m)\u001b[0m\u001b[0;34m.\u001b[0m\u001b[0mmean\u001b[0m\u001b[0;34m(\u001b[0m\u001b[0maxis\u001b[0m\u001b[0;34m=\u001b[0m\u001b[0;36m1\u001b[0m\u001b[0;34m)\u001b[0m\u001b[0;34m\u001b[0m\u001b[0;34m\u001b[0m\u001b[0m\n\u001b[0m\u001b[1;32m      4\u001b[0m \u001b[0mplt\u001b[0m\u001b[0;34m.\u001b[0m\u001b[0mfigure\u001b[0m\u001b[0;34m(\u001b[0m\u001b[0;34m)\u001b[0m\u001b[0;34m\u001b[0m\u001b[0;34m\u001b[0m\u001b[0m\n\u001b[1;32m      5\u001b[0m \u001b[0mplt\u001b[0m\u001b[0;34m.\u001b[0m\u001b[0mplot\u001b[0m\u001b[0;34m(\u001b[0m\u001b[0mprobabilidad\u001b[0m\u001b[0;34m)\u001b[0m\u001b[0;34m\u001b[0m\u001b[0;34m\u001b[0m\u001b[0m\n",
            "\u001b[0;31mNameError\u001b[0m: name 'precios_simulados' is not defined"
          ]
        }
      ],
      "source": [
        "valor_deseado = 180\n",
        "#data_aapl[-1]*1.10\n",
        "probabilidad = (precios_msft_simulados >= valor_deseado).mean(axis=1)\n",
        "plt.figure()\n",
        "plt.plot(probabilidad)\n",
        "plt.grid()"
      ]
    },
    {
      "cell_type": "code",
      "execution_count": null,
      "metadata": {
        "id": "-zEBOzdSB0zX"
      },
      "outputs": [],
      "source": []
    },
    {
      "cell_type": "code",
      "execution_count": null,
      "metadata": {
        "id": "YqZ8WCUsB0zX"
      },
      "outputs": [],
      "source": []
    },
    {
      "cell_type": "markdown",
      "metadata": {
        "id": "qAdwgvu6B0zY"
      },
      "source": [
        "___\n",
        "Entonces, ya aprendimos a bajar datos con pandas-datareader. En específico, a partir de los precios de cierre ajustados obtuvimos los rendimientos diarios.\n",
        "\n",
        "Suponiendo que los rendimientos diarios son un proceso estocástico estacionario de distribución normal, pudimos caracaterizarlo y proyectar varios escenarios de evolución de los precios (montecarlo).\n",
        "\n",
        "Con estas proyecciones pudimos calcular probabilidades de sobrepasar cierto precio umbral: toma de decisiones."
      ]
    }
  ],
  "metadata": {
    "kernelspec": {
      "display_name": "Python 3 (ipykernel)",
      "language": "python",
      "name": "python3"
    },
    "language_info": {
      "codemirror_mode": {
        "name": "ipython",
        "version": 3
      },
      "file_extension": ".py",
      "mimetype": "text/x-python",
      "name": "python",
      "nbconvert_exporter": "python",
      "pygments_lexer": "ipython3",
      "version": "3.9.12"
    },
    "colab": {
      "provenance": [],
      "include_colab_link": true
    }
  },
  "nbformat": 4,
  "nbformat_minor": 0
}