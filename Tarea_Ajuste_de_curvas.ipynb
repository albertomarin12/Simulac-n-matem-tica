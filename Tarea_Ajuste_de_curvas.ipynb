{
  "cells": [
    {
      "cell_type": "markdown",
      "metadata": {
        "id": "view-in-github",
        "colab_type": "text"
      },
      "source": [
        "<a href=\"https://colab.research.google.com/github/albertomarin12/Simulac-n-matem-tica/blob/main/Tarea_Ajuste_de_curvas.ipynb\" target=\"_parent\"><img src=\"https://colab.research.google.com/assets/colab-badge.svg\" alt=\"Open In Colab\"/></a>"
      ]
    },
    {
      "cell_type": "markdown",
      "metadata": {
        "id": "CQ6FvyibL3H5"
      },
      "source": [
        "# Tarea - Ajuste de curvas"
      ]
    },
    {
      "cell_type": "code",
      "execution_count": 24,
      "metadata": {
        "id": "HFylWWILL3H-"
      },
      "outputs": [],
      "source": [
        "import numpy as np\n",
        "import pandas as pd\n",
        "import matplotlib.pyplot as plt"
      ]
    },
    {
      "cell_type": "markdown",
      "metadata": {
        "id": "wz52GZw1L3IA"
      },
      "source": [
        "---\n",
        "### Problema 1\n",
        "\n",
        "Los siguientes datos representan el costo en dólares de la electricidad según Western Electricity Coordinating Council desde el 2014 (y su pronóstico para el 2040)\n",
        "\n",
        "Tomado de:\n",
        "https://www.quandl.com/data/EIA/AEO_2016_REF_NO_CPP_PRCE_NA_COMM_NA_ELC_NA_WECCRKS_NCNTPKWH_A-Electricity-End-Use-Prices-Commercial-Western-Electricity-Coordinating-Council-Rockies-No-CPP-AEO2016"
      ]
    },
    {
      "cell_type": "code",
      "execution_count": 25,
      "metadata": {
        "id": "d3x1VlxuL3IB"
      },
      "outputs": [],
      "source": [
        "import numpy as np\n",
        "# Datos extraidos de la página de quandl\n",
        "data = np.array([10.051101,  9.259127,  9.444813,  9.557723,  9.977324, 10.298326,\n",
        "       10.447217, 10.550506, 10.590784, 10.657418, 10.743085, 10.831965,\n",
        "       10.988435, 11.153055, 11.313326, 11.557165, 11.860136, 12.122511,\n",
        "       12.356448, 12.611391, 12.814569, 13.111372, 13.357134, 13.559012,\n",
        "       13.85861 , 14.135924, 14.436149])"
      ]
    },
    {
      "cell_type": "markdown",
      "metadata": {
        "id": "ShJAJPdWL3IC"
      },
      "source": [
        "1. Ajuste estos datos a polinomios de grado 1 hasta 3 (los datos en $x$ corresponden a los años de 2014 a 2040, sin embargo son valores muy grandes para elevarlos a una potencia, use una representación para estos años, por ejemplo $2014 \\rightarrow 0$ y $2040\\rightarrow 26$).\n",
        "\n",
        "2. Muestre las tres curvas ajustadas junto a los datos de los costos en un solo gráfico"
      ]
    },
    {
      "cell_type": "code",
      "source": [
        "from google.colab import drive\n",
        "drive.mount('/content/drive')"
      ],
      "metadata": {
        "colab": {
          "base_uri": "https://localhost:8080/"
        },
        "id": "-cqUOLpOMCTK",
        "outputId": "30afadd3-e5fe-4891-e4c3-e0a58c32f52d"
      },
      "execution_count": 26,
      "outputs": [
        {
          "output_type": "stream",
          "name": "stdout",
          "text": [
            "Drive already mounted at /content/drive; to attempt to forcibly remount, call drive.mount(\"/content/drive\", force_remount=True).\n"
          ]
        }
      ]
    },
    {
      "cell_type": "code",
      "execution_count": 27,
      "metadata": {
        "colab": {
          "base_uri": "https://localhost:8080/",
          "height": 265
        },
        "id": "ocDdaC9DL3ID",
        "outputId": "695fb483-c187-4d61-e43b-70fa0cf416cf"
      },
      "outputs": [
        {
          "output_type": "display_data",
          "data": {
            "text/plain": [
              "<Figure size 432x288 with 1 Axes>"
            ],
            "image/png": "[encoded data removed]"
          },
          "metadata": {
            "needs_background": "light"
          }
        }
      ],
      "source": [
        "import numpy as np \n",
        "import matplotlib.pyplot as plt\n",
        "%matplotlib inline\n",
        "\n",
        "x = np.linspace(0, 26, 27)\n",
        "y = data\n",
        "\n",
        "plt.figure()\n",
        "plt.scatter(x,y, s =5)\n",
        "plt.grid()"
      ]
    },
    {
      "cell_type": "code",
      "execution_count": 28,
      "metadata": {
        "id": "JfEQsEQTL3ID"
      },
      "outputs": [],
      "source": [
        "def f_costo(beta,X,y):\n",
        "    m,n = X.shape\n",
        "    beta = np.reshape(beta, [n,1])\n",
        "    prediccion = X @ beta \n",
        "    error = prediccion - y\n",
        "    return (error.T @ error)[0][0]"
      ]
    },
    {
      "cell_type": "code",
      "execution_count": 29,
      "metadata": {
        "id": "IP4t9R9iL3IE"
      },
      "outputs": [],
      "source": [
        "m = len(y) # numero de muestras\n",
        "ones = np.ones([m,1])\n",
        "x1 = np.reshape(x, [m, 1])\n",
        "\n",
        "X = np.hstack((ones, x1))"
      ]
    },
    {
      "cell_type": "code",
      "source": [
        "beta_inicial = np.random.rand(2, 1)\n",
        "beta_inicial"
      ],
      "metadata": {
        "colab": {
          "base_uri": "https://localhost:8080/"
        },
        "id": "qQtREoyfeFhI",
        "outputId": "b6a8473c-7eeb-48b0-fec2-5ced922f16ef"
      },
      "execution_count": 30,
      "outputs": [
        {
          "output_type": "execute_result",
          "data": {
            "text/plain": [
              "array([[0.43421586],\n",
              "       [0.37067843]])"
            ]
          },
          "metadata": {},
          "execution_count": 30
        }
      ]
    },
    {
      "cell_type": "code",
      "source": [
        "y_vector = np.reshape(y, [m, 1])"
      ],
      "metadata": {
        "id": "ZVs8C1cn07AO"
      },
      "execution_count": 31,
      "outputs": []
    },
    {
      "cell_type": "code",
      "execution_count": 32,
      "metadata": {
        "id": "ICmt1sK1L3ID",
        "colab": {
          "base_uri": "https://localhost:8080/"
        },
        "outputId": "2fc48aff-6b60-4730-a5c7-0b779544a4b7"
      },
      "outputs": [
        {
          "output_type": "stream",
          "name": "stderr",
          "text": [
            "<ipython-input-32-78dcd1d5292c>:2: DeprecationWarning: Use of `minimize` with `x0.ndim != 1` is deprecated. Currently, singleton dimensions will be removed from `x0`, but an error will be raised in SciPy 1.11.0.\n",
            "  sol = opt.minimize(f_costo,beta_inicial, args=(X,y))\n"
          ]
        },
        {
          "output_type": "execute_result",
          "data": {
            "text/plain": [
              "  message: Optimization terminated successfully.\n",
              "  success: True\n",
              "   status: 0\n",
              "      fun: 1.1612852497525097e-12\n",
              "        x: [ 1.005e+01 -2.661e-08]\n",
              "      nit: 4\n",
              "      jac: [-1.847e-13  1.553e-12]\n",
              " hess_inv: [[ 7.011e-02 -3.968e-03]\n",
              "            [-3.968e-03  3.053e-04]]\n",
              "     nfev: 18\n",
              "     njev: 6"
            ]
          },
          "metadata": {},
          "execution_count": 32
        }
      ],
      "source": [
        "\n",
        "import scipy.optimize as opt\n",
        "sol = opt.minimize(f_costo,beta_inicial, args=(X,y))\n",
        "beta=np.reshape(sol.x,[2,1])\n",
        "sol"
      ]
    },
    {
      "cell_type": "code",
      "source": [
        "plt.figure()\n",
        "plt.scatter(x, y, s=5)\n",
        "plt.plot(x, X@beta_inicial)\n",
        "plt.grid()"
      ],
      "metadata": {
        "colab": {
          "base_uri": "https://localhost:8080/",
          "height": 265
        },
        "id": "B17eAXv70_zD",
        "outputId": "dc131d08-1bd7-499a-b795-729bb34ab648"
      },
      "execution_count": 33,
      "outputs": [
        {
          "output_type": "display_data",
          "data": {
            "text/plain": [
              "<Figure size 432x288 with 1 Axes>"
            ],
            "image/png": "[encoded data removed]"
          },
          "metadata": {
            "needs_background": "light"
          }
        }
      ]
    },
    {
      "cell_type": "code",
      "source": [
        "f_costo(beta_inicial, X, y_vector)"
      ],
      "metadata": {
        "colab": {
          "base_uri": "https://localhost:8080/"
        },
        "id": "PCCTObHi1C26",
        "outputId": "92a5ffb8-638e-46cd-8372-5b5daecb1951"
      },
      "execution_count": 34,
      "outputs": [
        {
          "output_type": "execute_result",
          "data": {
            "text/plain": [
              "1125.8440381135918"
            ]
          },
          "metadata": {},
          "execution_count": 34
        }
      ]
    },
    {
      "cell_type": "code",
      "source": [
        "sol = opt.minimize(f_costo, beta_inicial, args=(X, y_vector))\n",
        "sol"
      ],
      "metadata": {
        "colab": {
          "base_uri": "https://localhost:8080/"
        },
        "id": "GLOOck6U1NDG",
        "outputId": "9f85707b-9fe4-4f92-ca66-dd70557d09ec"
      },
      "execution_count": 35,
      "outputs": [
        {
          "output_type": "stream",
          "name": "stderr",
          "text": [
            "<ipython-input-35-f20cf28b94ac>:1: DeprecationWarning: Use of `minimize` with `x0.ndim != 1` is deprecated. Currently, singleton dimensions will be removed from `x0`, but an error will be raised in SciPy 1.11.0.\n",
            "  sol = opt.minimize(f_costo, beta_inicial, args=(X, y_vector))\n"
          ]
        },
        {
          "output_type": "execute_result",
          "data": {
            "text/plain": [
              "  message: Optimization terminated successfully.\n",
              "  success: True\n",
              "   status: 0\n",
              "      fun: 2.370488951815375\n",
              "        x: [ 9.116e+00  1.867e-01]\n",
              "      nit: 3\n",
              "      jac: [-5.960e-08 -1.192e-06]\n",
              " hess_inv: [[ 7.011e-02 -3.968e-03]\n",
              "            [-3.968e-03  3.053e-04]]\n",
              "     nfev: 15\n",
              "     njev: 5"
            ]
          },
          "metadata": {},
          "execution_count": 35
        }
      ]
    },
    {
      "cell_type": "code",
      "source": [
        "beta = np.reshape(sol.x, [2, 1])\n",
        "beta"
      ],
      "metadata": {
        "colab": {
          "base_uri": "https://localhost:8080/"
        },
        "id": "Wlzx13xH1P11",
        "outputId": "cb68ec1a-eaaf-4be6-eaa0-8bdd2a78fff5"
      },
      "execution_count": 36,
      "outputs": [
        {
          "output_type": "execute_result",
          "data": {
            "text/plain": [
              "array([[9.11567633],\n",
              "       [0.18667056]])"
            ]
          },
          "metadata": {},
          "execution_count": 36
        }
      ]
    },
    {
      "cell_type": "markdown",
      "source": [
        "### Solución de primer grado"
      ],
      "metadata": {
        "id": "FKnMdyEbhwvz"
      }
    },
    {
      "cell_type": "code",
      "source": [
        "plt.figure()\n",
        "plt.scatter(x, y, s=5)\n",
        "plt.plot(x, X @ beta, \"r\")\n",
        "\n",
        "plt.grid()"
      ],
      "metadata": {
        "colab": {
          "base_uri": "https://localhost:8080/",
          "height": 265
        },
        "id": "VWmNZ-nu1ZxX",
        "outputId": "233d0f2c-0ef1-4650-ab29-e46ce65d422f"
      },
      "execution_count": 37,
      "outputs": [
        {
          "output_type": "display_data",
          "data": {
            "text/plain": [
              "<Figure size 432x288 with 1 Axes>"
            ],
            "image/png": "[encoded data removed]"
          },
          "metadata": {
            "needs_background": "light"
          }
        }
      ]
    },
    {
      "cell_type": "code",
      "source": [
        "m=len(y)\n",
        "ones=np.ones([m,1])\n",
        "x1=np.reshape(x,[m,1]) \n",
        "x2=np.reshape(x**2,[m,1])\n",
        "X2=np.hstack((ones,x1,x2))"
      ],
      "metadata": {
        "id": "w6pKKFJR1dgS"
      },
      "execution_count": 38,
      "outputs": []
    },
    {
      "cell_type": "code",
      "source": [
        "beta_inicial2 = np.random.rand(3,1)\n",
        "y2=np.reshape(y,[m,1])"
      ],
      "metadata": {
        "id": "PEhvY0TBiCvz"
      },
      "execution_count": 39,
      "outputs": []
    },
    {
      "cell_type": "code",
      "source": [
        "sol2=opt.minimize(f_costo,beta_inicial2, args=(X2,y2))\n",
        "sol2"
      ],
      "metadata": {
        "colab": {
          "base_uri": "https://localhost:8080/"
        },
        "id": "n_eBIt1yibEF",
        "outputId": "651ef3f4-45f3-4e61-93ae-3d2747a93a98"
      },
      "execution_count": 40,
      "outputs": [
        {
          "output_type": "stream",
          "name": "stderr",
          "text": [
            "<ipython-input-40-ef6e7cda2f4f>:1: DeprecationWarning: Use of `minimize` with `x0.ndim != 1` is deprecated. Currently, singleton dimensions will be removed from `x0`, but an error will be raised in SciPy 1.11.0.\n",
            "  sol2=opt.minimize(f_costo,beta_inicial2, args=(X2,y2))\n"
          ]
        },
        {
          "output_type": "execute_result",
          "data": {
            "text/plain": [
              "  message: Optimization terminated successfully.\n",
              "  success: True\n",
              "   status: 0\n",
              "      fun: 0.8443845194037836\n",
              "        x: [ 9.591e+00  7.252e-02  4.390e-03]\n",
              "      nit: 10\n",
              "      jac: [-2.980e-08 -1.490e-08 -2.980e-08]\n",
              " hess_inv: [[ 1.443e-01 -2.176e-02  6.843e-04]\n",
              "            [-2.176e-02  4.575e-03 -1.642e-04]\n",
              "            [ 6.843e-04 -1.642e-04  6.316e-06]]\n",
              "     nfev: 56\n",
              "     njev: 14"
            ]
          },
          "metadata": {},
          "execution_count": 40
        }
      ]
    },
    {
      "cell_type": "markdown",
      "source": [
        "### Solución de Segundo grado"
      ],
      "metadata": {
        "id": "R-CyOXj8igEM"
      }
    },
    {
      "cell_type": "code",
      "source": [
        "plt.figure()\n",
        "plt.scatter(x,y,s=5)\n",
        "beta2=np.reshape(sol2.x,[3,1])\n",
        "plt.plot(x,X2@beta2,\"r\") \n",
        "plt.grid()"
      ],
      "metadata": {
        "colab": {
          "base_uri": "https://localhost:8080/",
          "height": 265
        },
        "id": "Yi9x-bmFiDAx",
        "outputId": "07d25e56-0953-4608-d60e-6655527126e3"
      },
      "execution_count": 41,
      "outputs": [
        {
          "output_type": "display_data",
          "data": {
            "text/plain": [
              "<Figure size 432x288 with 1 Axes>"
            ],
            "image/png": "[encoded data removed]"
          },
          "metadata": {
            "needs_background": "light"
          }
        }
      ]
    },
    {
      "cell_type": "code",
      "source": [
        "type(x)"
      ],
      "metadata": {
        "colab": {
          "base_uri": "https://localhost:8080/"
        },
        "id": "ekHJFxEPioOW",
        "outputId": "73df27a6-cb07-4bf8-cc35-752cec29e3d9"
      },
      "execution_count": 42,
      "outputs": [
        {
          "output_type": "execute_result",
          "data": {
            "text/plain": [
              "numpy.ndarray"
            ]
          },
          "metadata": {},
          "execution_count": 42
        }
      ]
    },
    {
      "cell_type": "code",
      "source": [
        "m=len(y)\n",
        "ones=np.ones([m,1])\n",
        "x1=np.reshape(x,[m,1]) # da forma a las x en 1 columna\n",
        "x2=np.reshape(x**2,[m,1])\n",
        "x3=np.reshape(x**3,[m,1])\n",
        "X3=np.hstack((ones,x1,x2,x3))"
      ],
      "metadata": {
        "id": "LkA0kdvxivIr"
      },
      "execution_count": 43,
      "outputs": []
    },
    {
      "cell_type": "code",
      "source": [
        "beta_inicial3 = np.random.rand(4,1)\n",
        "y3=np.reshape(y,[m,1])"
      ],
      "metadata": {
        "id": "VgTJXpi3iykA"
      },
      "execution_count": 44,
      "outputs": []
    },
    {
      "cell_type": "code",
      "source": [
        "sol3=opt.minimize(f_costo,beta_inicial3, args=(X3,y3))\n",
        "sol3"
      ],
      "metadata": {
        "colab": {
          "base_uri": "https://localhost:8080/"
        },
        "id": "-sKFUuE3i5Mn",
        "outputId": "2d425fd5-c11f-4f7b-bfde-e9746ef3047e"
      },
      "execution_count": 45,
      "outputs": [
        {
          "output_type": "stream",
          "name": "stderr",
          "text": [
            "<ipython-input-45-f62772efb6db>:1: DeprecationWarning: Use of `minimize` with `x0.ndim != 1` is deprecated. Currently, singleton dimensions will be removed from `x0`, but an error will be raised in SciPy 1.11.0.\n",
            "  sol3=opt.minimize(f_costo,beta_inicial3, args=(X3,y3))\n"
          ]
        },
        {
          "output_type": "execute_result",
          "data": {
            "text/plain": [
              "  message: Desired error not necessarily achieved due to precision loss.\n",
              "  success: False\n",
              "   status: 2\n",
              "      fun: 0.8404237541444569\n",
              "        x: [ 9.566e+00  8.510e-02  3.160e-03  3.157e-05]\n",
              "      nit: 6\n",
              "      jac: [-1.731e-02 -1.206e-01 -1.123e+00 -1.239e+00]\n",
              " hess_inv: [[ 2.272e-01 -6.412e-02  4.835e-03 -1.064e-04]\n",
              "            [-6.412e-02  2.619e-02 -2.282e-03  5.431e-05]\n",
              "            [ 4.835e-03 -2.282e-03  2.139e-04 -5.321e-06]\n",
              "            [-1.064e-04  5.431e-05 -5.321e-06  1.364e-07]]\n",
              "     nfev: 277\n",
              "     njev: 53"
            ]
          },
          "metadata": {},
          "execution_count": 45
        }
      ]
    },
    {
      "cell_type": "markdown",
      "source": [
        "Solución de Tercer grado"
      ],
      "metadata": {
        "id": "cFP2Fiygi8o9"
      }
    },
    {
      "cell_type": "code",
      "source": [
        "plt.figure()\n",
        "plt.scatter(x,y,s=5)\n",
        "beta3=np.reshape(sol3.x,[4,1])\n",
        "plt.plot(x,X3@beta3,\"r\") \n",
        "plt.grid()"
      ],
      "metadata": {
        "colab": {
          "base_uri": "https://localhost:8080/",
          "height": 265
        },
        "id": "haknwFDPi9GY",
        "outputId": "8181cda6-965c-475a-9cf0-5bbcd6ee06f3"
      },
      "execution_count": 46,
      "outputs": [
        {
          "output_type": "display_data",
          "data": {
            "text/plain": [
              "<Figure size 432x288 with 1 Axes>"
            ],
            "image/png": "[encoded data removed]"
          },
          "metadata": {
            "needs_background": "light"
          }
        }
      ]
    },
    {
      "cell_type": "code",
      "source": [
        "print(sol.fun)\n",
        "print(sol2.fun)\n",
        "print(sol3.fun)"
      ],
      "metadata": {
        "colab": {
          "base_uri": "https://localhost:8080/"
        },
        "id": "tKRaISzZjSlZ",
        "outputId": "d48586d4-8786-4d70-a4dd-ca8c36d97da8"
      },
      "execution_count": 47,
      "outputs": [
        {
          "output_type": "stream",
          "name": "stdout",
          "text": [
            "2.370488951815375\n",
            "0.8443845194037836\n",
            "0.8404237541444569\n"
          ]
        }
      ]
    },
    {
      "cell_type": "markdown",
      "source": [
        "Por lo tanto la función 3 es la que tiene mejor ajuste"
      ],
      "metadata": {
        "id": "V9zRZJ5rkFwW"
      }
    },
    {
      "cell_type": "code",
      "source": [
        "%matplotlib inline\n",
        "x=np.linspace(0,26,27)\n",
        "y=data\n",
        "plt.figure()\n",
        "plt.scatter(x,y,s=5)\n",
        "plt.plot(X@sol.x,\"r\",label=\"Grado 1\")\n",
        "plt.plot(x,X2@sol2.x,\"y\",label=\"Grado 2\")\n",
        "plt.plot(x,X3@sol3.x,\"m\",label=\"Grado 3\")\n",
        "plt.legend(loc=\"best\")\n",
        "plt.grid()"
      ],
      "metadata": {
        "id": "FxzE1pLrkEqb",
        "colab": {
          "base_uri": "https://localhost:8080/",
          "height": 265
        },
        "outputId": "aff98c7c-ee99-4873-f453-f946e6861ca3"
      },
      "execution_count": 48,
      "outputs": [
        {
          "output_type": "display_data",
          "data": {
            "text/plain": [
              "<Figure size 432x288 with 1 Axes>"
            ],
            "image/png": "[encoded data removed]"
          },
          "metadata": {
            "needs_background": "light"
          }
        }
      ]
    },
    {
      "cell_type": "markdown",
      "metadata": {
        "id": "PXczTKR1L3IE"
      },
      "source": [
        "---"
      ]
    },
    {
      "cell_type": "markdown",
      "metadata": {
        "id": "py9_4ggJL3IE"
      },
      "source": [
        "___\n",
        "### Problema 2\n",
        "\n",
        "El archivo `population_data.csv` contiene información histórica anual de México relativa a la población, nacimientos y muertes desde el año 1950 hasta el año 2015. La primer columna corresponde a los años, la segunda a la población, la tercera a los nacimientos y la última a los decesos.\n",
        "\n",
        "Tomado de: https://en.wikipedia.org/wiki/Demographics_of_Mexico.\n",
        "\n",
        "Importe estos datos usando la función `read_csv` del paquete `pandas`\n",
        "\n",
        "1. Usando los años como variable independiente $x$ y la población como variable dependiente $y$, ajustar polinomios de grado 1 hasta grado 3.\n",
        "\n",
        "    * Mostrar en un solo gráfico los datos de población contra los años, y los polinomios ajustados.\n",
        "\n",
        "    * Graficar el error cuadrático acumulado contra el número de términos.\n",
        "\n",
        "2. Repetir el punto 1 usando los nacimientos como variable dependiente $y$. Grafique las curvas ajustadas junto con los datos de nacimientos. Vea en un gráfico el error acumulado."
      ]
    },
    {
      "cell_type": "markdown",
      "metadata": {
        "id": "_XyJsBHfL3IF"
      },
      "source": [
        "---"
      ]
    },
    {
      "cell_type": "code",
      "execution_count": 73,
      "metadata": {
        "id": "-Fq3AeWRL3IG",
        "colab": {
          "base_uri": "https://localhost:8080/",
          "height": 424
        },
        "outputId": "479ffe89-28bf-47b5-e8d1-9088a5e9e28c"
      },
      "outputs": [
        {
          "output_type": "execute_result",
          "data": {
            "text/plain": [
              "    Year  Poblacion  Nacimientos  Decesos\n",
              "0   1950      28296      1174947   418430\n",
              "1   1951      29110      1183788   458238\n",
              "2   1952      29980      1195209   408823\n",
              "3   1953      30904      1261775   446127\n",
              "4   1954      31880      1339837   378752\n",
              "..   ...        ...          ...      ...\n",
              "61  2011     115683      2586287   590693\n",
              "62  2012     117054      2498880   602354\n",
              "63  2013     118395      2478889   623599\n",
              "64  2014     119713      2463420   633641\n",
              "65  2015     121005      2353596   655694\n",
              "\n",
              "[66 rows x 4 columns]"
            ],
            "text/html": [
              "\n",
              "  <div id=\"df-f80159e0-b12e-44d5-90e5-d9a63702c9ce\">\n",
              "    <div class=\"colab-df-container\">\n",
              "      <div>\n",
              "<style scoped>\n",
              "    .dataframe tbody tr th:only-of-type {\n",
              "        vertical-align: middle;\n",
              "    }\n",
              "\n",
              "    .dataframe tbody tr th {\n",
              "        vertical-align: top;\n",
              "    }\n",
              "\n",
              "    .dataframe thead th {\n",
              "        text-align: right;\n",
              "    }\n",
              "</style>\n",
              "<table border=\"1\" class=\"dataframe\">\n",
              "  <thead>\n",
              "    <tr style=\"text-align: right;\">\n",
              "      <th></th>\n",
              "      <th>Year</th>\n",
              "      <th>Poblacion</th>\n",
              "      <th>Nacimientos</th>\n",
              "      <th>Decesos</th>\n",
              "    </tr>\n",
              "  </thead>\n",
              "  <tbody>\n",
              "    <tr>\n",
              "      <th>0</th>\n",
              "      <td>1950</td>\n",
              "      <td>28296</td>\n",
              "      <td>1174947</td>\n",
              "      <td>418430</td>\n",
              "    </tr>\n",
              "    <tr>\n",
              "      <th>1</th>\n",
              "      <td>1951</td>\n",
              "      <td>29110</td>\n",
              "      <td>1183788</td>\n",
              "      <td>458238</td>\n",
              "    </tr>\n",
              "    <tr>\n",
              "      <th>2</th>\n",
              "      <td>1952</td>\n",
              "      <td>29980</td>\n",
              "      <td>1195209</td>\n",
              "      <td>408823</td>\n",
              "    </tr>\n",
              "    <tr>\n",
              "      <th>3</th>\n",
              "      <td>1953</td>\n",
              "      <td>30904</td>\n",
              "      <td>1261775</td>\n",
              "      <td>446127</td>\n",
              "    </tr>\n",
              "    <tr>\n",
              "      <th>4</th>\n",
              "      <td>1954</td>\n",
              "      <td>31880</td>\n",
              "      <td>1339837</td>\n",
              "      <td>378752</td>\n",
              "    </tr>\n",
              "    <tr>\n",
              "      <th>...</th>\n",
              "      <td>...</td>\n",
              "      <td>...</td>\n",
              "      <td>...</td>\n",
              "      <td>...</td>\n",
              "    </tr>\n",
              "    <tr>\n",
              "      <th>61</th>\n",
              "      <td>2011</td>\n",
              "      <td>115683</td>\n",
              "      <td>2586287</td>\n",
              "      <td>590693</td>\n",
              "    </tr>\n",
              "    <tr>\n",
              "      <th>62</th>\n",
              "      <td>2012</td>\n",
              "      <td>117054</td>\n",
              "      <td>2498880</td>\n",
              "      <td>602354</td>\n",
              "    </tr>\n",
              "    <tr>\n",
              "      <th>63</th>\n",
              "      <td>2013</td>\n",
              "      <td>118395</td>\n",
              "      <td>2478889</td>\n",
              "      <td>623599</td>\n",
              "    </tr>\n",
              "    <tr>\n",
              "      <th>64</th>\n",
              "      <td>2014</td>\n",
              "      <td>119713</td>\n",
              "      <td>2463420</td>\n",
              "      <td>633641</td>\n",
              "    </tr>\n",
              "    <tr>\n",
              "      <th>65</th>\n",
              "      <td>2015</td>\n",
              "      <td>121005</td>\n",
              "      <td>2353596</td>\n",
              "      <td>655694</td>\n",
              "    </tr>\n",
              "  </tbody>\n",
              "</table>\n",
              "<p>66 rows × 4 columns</p>\n",
              "</div>\n",
              "      <button class=\"colab-df-convert\" onclick=\"convertToInteractive('df-f80159e0-b12e-44d5-90e5-d9a63702c9ce')\"\n",
              "              title=\"Convert this dataframe to an interactive table.\"\n",
              "              style=\"display:none;\">\n",
              "        \n",
              "  <svg xmlns=\"http://www.w3.org/2000/svg\" height=\"24px\"viewBox=\"0 0 24 24\"\n",
              "       width=\"24px\">\n",
              "    <path d=\"M0 0h24v24H0V0z\" fill=\"none\"/>\n",
              "    <path d=\"M18.56 5.44l.94 2.06.94-2.06 2.06-.94-2.06-.94-.94-2.06-.94 2.06-2.06.94zm-11 1L8.5 8.5l.94-2.06 2.06-.94-2.06-.94L8.5 2.5l-.94 2.06-2.06.94zm10 10l.94 2.06.94-2.06 2.06-.94-2.06-.94-.94-2.06-.94 2.06-2.06.94z\"/><path d=\"M17.41 7.96l-1.37-1.37c-.4-.4-.92-.59-1.43-.59-.52 0-1.04.2-1.43.59L10.3 9.45l-7.72 7.72c-.78.78-.78 2.05 0 2.83L4 21.41c.39.39.9.59 1.41.59.51 0 1.02-.2 1.41-.59l7.78-7.78 2.81-2.81c.8-.78.8-2.07 0-2.86zM5.41 20L4 18.59l7.72-7.72 1.47 1.35L5.41 20z\"/>\n",
              "  </svg>\n",
              "      </button>\n",
              "      \n",
              "  <style>\n",
              "    .colab-df-container {\n",
              "      display:flex;\n",
              "      flex-wrap:wrap;\n",
              "      gap: 12px;\n",
              "    }\n",
              "\n",
              "    .colab-df-convert {\n",
              "      background-color: #E8F0FE;\n",
              "      border: none;\n",
              "      border-radius: 50%;\n",
              "      cursor: pointer;\n",
              "      display: none;\n",
              "      fill: #1967D2;\n",
              "      height: 32px;\n",
              "      padding: 0 0 0 0;\n",
              "      width: 32px;\n",
              "    }\n",
              "\n",
              "    .colab-df-convert:hover {\n",
              "      background-color: #E2EBFA;\n",
              "      box-shadow: 0px 1px 2px rgba(60, 64, 67, 0.3), 0px 1px 3px 1px rgba(60, 64, 67, 0.15);\n",
              "      fill: #174EA6;\n",
              "    }\n",
              "\n",
              "    [theme=dark] .colab-df-convert {\n",
              "      background-color: #3B4455;\n",
              "      fill: #D2E3FC;\n",
              "    }\n",
              "\n",
              "    [theme=dark] .colab-df-convert:hover {\n",
              "      background-color: #434B5C;\n",
              "      box-shadow: 0px 1px 3px 1px rgba(0, 0, 0, 0.15);\n",
              "      filter: drop-shadow(0px 1px 2px rgba(0, 0, 0, 0.3));\n",
              "      fill: #FFFFFF;\n",
              "    }\n",
              "  </style>\n",
              "\n",
              "      <script>\n",
              "        const buttonEl =\n",
              "          document.querySelector('#df-f80159e0-b12e-44d5-90e5-d9a63702c9ce button.colab-df-convert');\n",
              "        buttonEl.style.display =\n",
              "          google.colab.kernel.accessAllowed ? 'block' : 'none';\n",
              "\n",
              "        async function convertToInteractive(key) {\n",
              "          const element = document.querySelector('#df-f80159e0-b12e-44d5-90e5-d9a63702c9ce');\n",
              "          const dataTable =\n",
              "            await google.colab.kernel.invokeFunction('convertToInteractive',\n",
              "                                                     [key], {});\n",
              "          if (!dataTable) return;\n",
              "\n",
              "          const docLinkHtml = 'Like what you see? Visit the ' +\n",
              "            '<a target=\"_blank\" href=https://colab.research.google.com/notebooks/data_table.ipynb>data table notebook</a>'\n",
              "            + ' to learn more about interactive tables.';\n",
              "          element.innerHTML = '';\n",
              "          dataTable['output_type'] = 'display_data';\n",
              "          await google.colab.output.renderOutput(dataTable, element);\n",
              "          const docLink = document.createElement('div');\n",
              "          docLink.innerHTML = docLinkHtml;\n",
              "          element.appendChild(docLink);\n",
              "        }\n",
              "      </script>\n",
              "    </div>\n",
              "  </div>\n",
              "  "
            ]
          },
          "metadata": {},
          "execution_count": 73
        }
      ],
      "source": [
        "import pandas as pd\n",
        "\n",
        "archivo = 'population_data.csv'\n",
        "\n",
        "df = pd.read_csv(archivo)\n",
        "df"
      ]
    },
    {
      "cell_type": "code",
      "source": [
        "x = df['Year']-1950\n",
        "y = df['Poblacion']\n",
        "m = len(y)"
      ],
      "metadata": {
        "id": "HG-fHdCH4p4A"
      },
      "execution_count": 84,
      "outputs": []
    },
    {
      "cell_type": "code",
      "execution_count": 83,
      "metadata": {
        "colab": {
          "base_uri": "https://localhost:8080/",
          "height": 265
        },
        "id": "zXan116fL3IG",
        "outputId": "58c7e0fb-cd31-4092-8ba9-d3f7fd06c682"
      },
      "outputs": [
        {
          "output_type": "display_data",
          "data": {
            "text/plain": [
              "<Figure size 432x288 with 1 Axes>"
            ],
            "image/png": "[encoded data removed]"
          },
          "metadata": {
            "needs_background": "light"
          }
        }
      ],
      "source": [
        "import numpy as np \n",
        "import matplotlib.pyplot as plt\n",
        "%matplotlib inline\n",
        "\n",
        "x1 = np.linspace(0, nd, nd)\n",
        "y1 = y\n",
        "\n",
        "plt.figure()\n",
        "plt.scatter(x1,y1, s =5)\n",
        "#plt.plot(x , 5 + 1*x, \"r\")\n",
        "plt.grid()"
      ]
    },
    {
      "cell_type": "code",
      "source": [
        "x = np.array(x)\n",
        "y = np.array(y)\n"
      ],
      "metadata": {
        "id": "GLOfrDtb2-lR"
      },
      "execution_count": 85,
      "outputs": []
    },
    {
      "cell_type": "code",
      "source": [
        "ones=np.ones([m,1]) \n",
        "x1 = np.reshape(x,[m,1]) \n",
        "X=np.hstack((ones,x1))"
      ],
      "metadata": {
        "id": "j_jCVYPLgOsp"
      },
      "execution_count": 86,
      "outputs": []
    },
    {
      "cell_type": "code",
      "execution_count": 87,
      "metadata": {
        "id": "JKrGWZi7L3IG"
      },
      "outputs": [],
      "source": [
        "beta_i1=np.random.rand(2,1)\n",
        "yv=np.reshape(y,[m,1])"
      ]
    },
    {
      "cell_type": "markdown",
      "source": [
        "Ecuación de grado 1"
      ],
      "metadata": {
        "id": "lzJ4ia-J3n-S"
      }
    },
    {
      "cell_type": "code",
      "source": [
        "solp1=opt.minimize(f_costo,beta_i1, args=(X,yv))\n",
        "solp1"
      ],
      "metadata": {
        "colab": {
          "base_uri": "https://localhost:8080/"
        },
        "id": "vsTrijqj3dES",
        "outputId": "5f17550b-7844-470d-b977-8b60b717d411"
      },
      "execution_count": 88,
      "outputs": [
        {
          "output_type": "stream",
          "name": "stderr",
          "text": [
            "<ipython-input-88-1af235ca5bfb>:1: DeprecationWarning: Use of `minimize` with `x0.ndim != 1` is deprecated. Currently, singleton dimensions will be removed from `x0`, but an error will be raised in SciPy 1.11.0.\n",
            "  solp1=opt.minimize(f_costo,beta_i1, args=(X,yv))\n"
          ]
        },
        {
          "output_type": "execute_result",
          "data": {
            "text/plain": [
              "  message: Desired error not necessarily achieved due to precision loss.\n",
              "  success: False\n",
              "   status: 2\n",
              "      fun: 212137169.5633493\n",
              "        x: [ 2.414e+04  1.544e+03]\n",
              "      nit: 8\n",
              "      jac: [ 0.000e+00  2.000e+00]\n",
              " hess_inv: [[ 2.932e-08 -6.662e-10]\n",
              "            [-6.662e-10  5.346e-06]]\n",
              "     nfev: 159\n",
              "     njev: 49"
            ]
          },
          "metadata": {},
          "execution_count": 88
        }
      ]
    },
    {
      "cell_type": "markdown",
      "source": [
        "Ecuación de segundo grado"
      ],
      "metadata": {
        "id": "nr78Pd5X4X6h"
      }
    },
    {
      "cell_type": "code",
      "source": [
        "x2=np.reshape(x**2,[m,1])\n",
        "X2=np.hstack((ones,x1,x2))\n",
        "beta_i2=np.random.rand(3,1)\n",
        "solp2=opt.minimize(f_costo,beta_i2, args=(X2,yv))\n",
        "solp2"
      ],
      "metadata": {
        "colab": {
          "base_uri": "https://localhost:8080/"
        },
        "id": "s3tVH2743iQY",
        "outputId": "968169e3-668a-4357-b0bf-945e1f9b746c"
      },
      "execution_count": 89,
      "outputs": [
        {
          "output_type": "stream",
          "name": "stderr",
          "text": [
            "<ipython-input-89-5d3c8d7cabc9>:4: DeprecationWarning: Use of `minimize` with `x0.ndim != 1` is deprecated. Currently, singleton dimensions will be removed from `x0`, but an error will be raised in SciPy 1.11.0.\n",
            "  solp2=opt.minimize(f_costo,beta_i2, args=(X2,yv))\n"
          ]
        },
        {
          "output_type": "execute_result",
          "data": {
            "text/plain": [
              "  message: Optimization terminated successfully.\n",
              "  success: True\n",
              "   status: 0\n",
              "      fun: 210941621.46381915\n",
              "        x: [ 2.443e+04  1.517e+03  4.147e-01]\n",
              "      nit: 8\n",
              "      jac: [ 0.000e+00  0.000e+00  0.000e+00]\n",
              " hess_inv: [[ 6.417e-02 -3.919e-03  4.986e-05]\n",
              "            [-3.919e-03  3.247e-04 -4.675e-06]\n",
              "            [ 4.986e-05 -4.675e-06  7.193e-08]]\n",
              "     nfev: 40\n",
              "     njev: 10"
            ]
          },
          "metadata": {},
          "execution_count": 89
        }
      ]
    },
    {
      "cell_type": "markdown",
      "source": [
        "Ecuación de tercer grado"
      ],
      "metadata": {
        "id": "aByi0k944dUo"
      }
    },
    {
      "cell_type": "code",
      "execution_count": 90,
      "metadata": {
        "id": "kpl56LqzL3IG",
        "colab": {
          "base_uri": "https://localhost:8080/"
        },
        "outputId": "fa0c11fe-c582-4b96-e24c-605e45a48dd4"
      },
      "outputs": [
        {
          "output_type": "stream",
          "name": "stderr",
          "text": [
            "<ipython-input-90-61f249a75535>:8: DeprecationWarning: Use of `minimize` with `x0.ndim != 1` is deprecated. Currently, singleton dimensions will be removed from `x0`, but an error will be raised in SciPy 1.11.0.\n",
            "  solp3=opt.minimize(f_costo,beta_i3, args=(X3,yv))\n"
          ]
        },
        {
          "output_type": "execute_result",
          "data": {
            "text/plain": [
              "  message: Desired error not necessarily achieved due to precision loss.\n",
              "  success: False\n",
              "   status: 2\n",
              "      fun: 25240442.64567985\n",
              "        x: [ 2.848e+04  7.391e+02  3.056e+01 -3.092e-01]\n",
              "      nit: 8\n",
              "      jac: [ 0.000e+00  0.000e+00  0.000e+00 -2.500e-01]\n",
              " hess_inv: [[ 5.111e-02 -2.167e-03 -1.078e-06  4.080e-07]\n",
              "            [-2.167e-03  1.243e-04  5.822e-08 -2.807e-08]\n",
              "            [-1.078e-06  5.822e-08  1.063e-09 -3.331e-11]\n",
              "            [ 4.080e-07 -2.807e-08 -3.331e-11  7.910e-12]]\n",
              "     nfev: 236\n",
              "     njev: 45"
            ]
          },
          "metadata": {},
          "execution_count": 90
        }
      ],
      "source": [
        "m=len(y)\n",
        "ones=np.ones([m,1]) #matriz de 1\n",
        "x1 = np.reshape(x,[m,1])\n",
        "x2=np.reshape(x**2,[m,1])\n",
        "x3=np.reshape(x**3,[m,1])\n",
        "X3=np.hstack((ones,x1,x2,x3))\n",
        "beta_i3=np.random.rand(4,1)\n",
        "solp3=opt.minimize(f_costo,beta_i3, args=(X3,yv))\n",
        "solp3"
      ]
    },
    {
      "cell_type": "code",
      "source": [
        "beta=np.reshape(solp1.x,[2,1])\n",
        "beta2=np.reshape(solp2.x,[3,1])\n",
        "beta3=np.reshape(solp3.x,[4,1])"
      ],
      "metadata": {
        "id": "chf6T_XqgV9W"
      },
      "execution_count": 92,
      "outputs": []
    },
    {
      "cell_type": "code",
      "source": [
        "plt.figure()\n",
        "plt.title(\"Polinomios ajustados\")\n",
        "plt.plot(x,y)\n",
        "plt.plot(x,X@beta,label=\"Grado 1\")\n",
        "plt.plot(x,X2@beta2,label=\"Grado 2\")\n",
        "plt.plot(x,X3@beta3,label=\"Grado 3\")\n",
        "plt.legend(loc=\"best\")\n",
        "plt.xlabel(\"año\")\n",
        "plt.ylabel(\"Población\")\n",
        "plt.grid()"
      ],
      "metadata": {
        "colab": {
          "base_uri": "https://localhost:8080/",
          "height": 295
        },
        "id": "pSMbrYtr4xkK",
        "outputId": "5c91d9be-9f9f-4193-90d9-3991c3c42cbd"
      },
      "execution_count": 93,
      "outputs": [
        {
          "output_type": "display_data",
          "data": {
            "text/plain": [
              "<Figure size 432x288 with 1 Axes>"
            ],
            "image/png": "[encoded data removed]"
          },
          "metadata": {
            "needs_background": "light"
          }
        }
      ]
    },
    {
      "cell_type": "code",
      "source": [
        "error=np.array([solp1.fun,solp2.fun,solp3.fun])\n",
        "e=np.reshape(error,[3,1])\n"
      ],
      "metadata": {
        "id": "45RtnvJO4znW"
      },
      "execution_count": 94,
      "outputs": []
    },
    {
      "cell_type": "code",
      "source": [
        "error=np.array([solp1.fun,solp2.fun,solp3.fun])\n",
        "e=np.reshape(error,[3,1])\n"
      ],
      "metadata": {
        "id": "Kjhp-ar86gIL"
      },
      "execution_count": 95,
      "outputs": []
    },
    {
      "cell_type": "code",
      "source": [
        "plt.figure()\n",
        "plt.plot(error,e)\n",
        "plt.title(\"Error cuadrático acumulado\")\n",
        "plt.xlabel(\"Numero de términos\")\n",
        "plt.ylabel(\"Error cuadrático\")\n",
        "plt.grid()"
      ],
      "metadata": {
        "id": "c5tEK2VBga9g",
        "colab": {
          "base_uri": "https://localhost:8080/",
          "height": 295
        },
        "outputId": "ebc8a3bb-b354-4300-ba91-c2f1c30aa46b"
      },
      "execution_count": 97,
      "outputs": [
        {
          "output_type": "display_data",
          "data": {
            "text/plain": [
              "<Figure size 432x288 with 1 Axes>"
            ],
            "image/png": "[encoded data removed]"
          },
          "metadata": {
            "needs_background": "light"
          }
        }
      ]
    },
    {
      "cell_type": "code",
      "source": [
        "print(solp1.fun)\n",
        "print(solp2.fun)\n",
        "print(solp3.fun)"
      ],
      "metadata": {
        "colab": {
          "base_uri": "https://localhost:8080/"
        },
        "id": "WPsPyK415pn_",
        "outputId": "5195fad2-7c59-417d-cc2a-d2a2fe9f540a"
      },
      "execution_count": 99,
      "outputs": [
        {
          "output_type": "stream",
          "name": "stdout",
          "text": [
            "212137169.5633493\n",
            "210941621.46381915\n",
            "25240442.64567985\n"
          ]
        }
      ]
    },
    {
      "cell_type": "markdown",
      "source": [
        "Por lo tanto la función con menos error es la función de segundo grado."
      ],
      "metadata": {
        "id": "Rhc6v70B65_j"
      }
    },
    {
      "cell_type": "code",
      "source": [
        "year=df[\"Year\"]-1950\n",
        "population=df[\"Nacimientos\"]\n",
        "x=np.array(year)\n",
        "y=np.array(population)"
      ],
      "metadata": {
        "id": "gPfsdn356zcj"
      },
      "execution_count": 101,
      "outputs": []
    },
    {
      "cell_type": "code",
      "source": [
        "m=len(y)\n",
        "ones=np.ones([m,1])\n",
        "x1=np.reshape(x,[m,1])\n",
        "X=np.hstack((ones,x1))\n",
        "beta_i1=np.random.rand(2,1)\n",
        "yv=np.reshape(y,[m,1])\n",
        "soln1=opt.minimize(f_costo,beta_i1, args=(X,yv))\n",
        "soln1"
      ],
      "metadata": {
        "colab": {
          "base_uri": "https://localhost:8080/"
        },
        "id": "GO367Xd17Cip",
        "outputId": "903ea45e-9b8d-4973-eee4-188d9a21a270"
      },
      "execution_count": 102,
      "outputs": [
        {
          "output_type": "stream",
          "name": "stderr",
          "text": [
            "<ipython-input-102-1b7f19fc9b5a>:7: DeprecationWarning: Use of `minimize` with `x0.ndim != 1` is deprecated. Currently, singleton dimensions will be removed from `x0`, but an error will be raised in SciPy 1.11.0.\n",
            "  soln1=opt.minimize(f_costo,beta_i1, args=(X,yv))\n"
          ]
        },
        {
          "output_type": "execute_result",
          "data": {
            "text/plain": [
              "  message: Desired error not necessarily achieved due to precision loss.\n",
              "  success: False\n",
              "   status: 2\n",
              "      fun: 4737912272100.02\n",
              "        x: [ 1.563e+06  2.198e+04]\n",
              "      nit: 5\n",
              "      jac: [ 0.000e+00  6.554e+04]\n",
              " hess_inv: [[ 2.943e-02 -6.715e-04]\n",
              "            [-6.715e-04  2.068e-05]]\n",
              "     nfev: 162\n",
              "     njev: 50"
            ]
          },
          "metadata": {},
          "execution_count": 102
        }
      ]
    },
    {
      "cell_type": "code",
      "source": [
        "m=len(y)\n",
        "ones=np.ones([m,1])\n",
        "x1=np.reshape(x,[m,1])\n",
        "x2=np.reshape(x**2,[m,1])\n",
        "X2=np.hstack((ones,x1,x2))\n",
        "beta_i2=np.random.rand(3,1)\n",
        "soln2=opt.minimize(f_costo,beta_i2,args=(X2,yv))\n",
        "soln2"
      ],
      "metadata": {
        "colab": {
          "base_uri": "https://localhost:8080/"
        },
        "id": "Ug2xuH2q7IlB",
        "outputId": "16e19045-92de-4198-a58d-104f99eead9d"
      },
      "execution_count": 103,
      "outputs": [
        {
          "output_type": "stream",
          "name": "stderr",
          "text": [
            "<ipython-input-103-100315e0f58d>:7: DeprecationWarning: Use of `minimize` with `x0.ndim != 1` is deprecated. Currently, singleton dimensions will be removed from `x0`, but an error will be raised in SciPy 1.11.0.\n",
            "  soln2=opt.minimize(f_costo,beta_i2,args=(X2,yv))\n"
          ]
        },
        {
          "output_type": "execute_result",
          "data": {
            "text/plain": [
              "  message: Desired error not necessarily achieved due to precision loss.\n",
              "  success: False\n",
              "   status: 2\n",
              "      fun: 492921061156.8349\n",
              "        x: [ 1.021e+06  7.278e+04 -7.815e+02]\n",
              "      nit: 12\n",
              "      jac: [ 0.000e+00  0.000e+00 -2.048e+04]\n",
              " hess_inv: [[ 1.923e-04  1.464e-04 -2.878e-06]\n",
              "            [ 1.464e-04  1.311e-04 -2.554e-06]\n",
              "            [-2.878e-06 -2.554e-06  5.183e-08]]\n",
              "     nfev: 223\n",
              "     njev: 53"
            ]
          },
          "metadata": {},
          "execution_count": 103
        }
      ]
    },
    {
      "cell_type": "code",
      "source": [
        "m=len(y)\n",
        "ones=np.ones([m,1])\n",
        "x1=np.reshape(x,[m,1])\n",
        "x2=np.reshape(x**2,[m,1])\n",
        "x3=np.reshape(x**3,[m,1])\n",
        "X3=np.hstack((ones,x1,x2,x3))\n",
        "beta_i3=np.random.rand(4,1)\n",
        "soln3=opt.minimize(f_costo,beta_i3, args=(X3,yv))\n",
        "soln3"
      ],
      "metadata": {
        "colab": {
          "base_uri": "https://localhost:8080/"
        },
        "id": "H4SFbL1B7LU2",
        "outputId": "0ab421dd-f985-4c46-93c3-f5a16a180f30"
      },
      "execution_count": 104,
      "outputs": [
        {
          "output_type": "stream",
          "name": "stderr",
          "text": [
            "<ipython-input-104-f503b9cde487>:8: DeprecationWarning: Use of `minimize` with `x0.ndim != 1` is deprecated. Currently, singleton dimensions will be removed from `x0`, but an error will be raised in SciPy 1.11.0.\n",
            "  soln3=opt.minimize(f_costo,beta_i3, args=(X3,yv))\n"
          ]
        },
        {
          "output_type": "execute_result",
          "data": {
            "text/plain": [
              "  message: Desired error not necessarily achieved due to precision loss.\n",
              "  success: False\n",
              "   status: 2\n",
              "      fun: 441782338477.2277\n",
              "        x: [ 1.088e+06  5.987e+04 -2.812e+02 -5.132e+00]\n",
              "      nit: 11\n",
              "      jac: [ 0.000e+00  8.192e+03  4.628e+05  2.396e+07]\n",
              " hess_inv: [[ 3.003e-03 -1.603e-03  6.817e-05 -7.086e-07]\n",
              "            [-1.603e-03  8.562e-04 -3.653e-05  3.806e-07]\n",
              "            [ 6.817e-05 -3.653e-05  1.634e-06 -1.758e-08]\n",
              "            [-7.086e-07  3.806e-07 -1.758e-08  1.937e-10]]\n",
              "     nfev: 145\n",
              "     njev: 29"
            ]
          },
          "metadata": {},
          "execution_count": 104
        }
      ]
    },
    {
      "cell_type": "code",
      "source": [
        "beta=np.reshape(soln1.x,[2,1])\n",
        "beta2=np.reshape(soln2.x,[3,1])\n",
        "beta3=np.reshape(soln3.x,[4,1])"
      ],
      "metadata": {
        "id": "qs5nn78-7Nyr"
      },
      "execution_count": 105,
      "outputs": []
    },
    {
      "cell_type": "code",
      "source": [
        "plt.figure()\n",
        "plt.title(\"Polinomios ajustados\")\n",
        "plt.plot(x,y,label=\"Nacimientos\")\n",
        "plt.plot(x,X@beta,label=\"Grado 1\")\n",
        "plt.plot(x,X2@beta2,label=\"Grado 2\")\n",
        "plt.plot(x,X3@beta3,label=\"Grado 3\")\n",
        "plt.legend(loc=\"best\")\n",
        "plt.xlabel(\"año\")\n",
        "plt.ylabel(\"Nacimientos\")\n",
        "plt.grid()"
      ],
      "metadata": {
        "colab": {
          "base_uri": "https://localhost:8080/",
          "height": 295
        },
        "id": "cuNcJGPm7Qtt",
        "outputId": "6f803c6c-9379-4ab9-aca4-1a88671e6208"
      },
      "execution_count": 106,
      "outputs": [
        {
          "output_type": "display_data",
          "data": {
            "text/plain": [
              "<Figure size 432x288 with 1 Axes>"
            ],
            "image/png": "[encoded data removed]"
          },
          "metadata": {
            "needs_background": "light"
          }
        }
      ]
    },
    {
      "cell_type": "code",
      "source": [
        "error=np.array([soln1.fun,soln2.fun,soln3.fun])\n",
        "en=np.reshape(error,[3,1])\n",
        "en"
      ],
      "metadata": {
        "colab": {
          "base_uri": "https://localhost:8080/"
        },
        "id": "ITMGOK7R7S32",
        "outputId": "9143b349-7903-4e9f-b6ba-72dd184f6ec1"
      },
      "execution_count": 107,
      "outputs": [
        {
          "output_type": "execute_result",
          "data": {
            "text/plain": [
              "array([[4.73791227e+12],\n",
              "       [4.92921061e+11],\n",
              "       [4.41782338e+11]])"
            ]
          },
          "metadata": {},
          "execution_count": 107
        }
      ]
    },
    {
      "cell_type": "code",
      "source": [
        "plt.figure()\n",
        "plt.plot(error,en)\n",
        "plt.title(\"Error cuadrático acumulado\")\n",
        "plt.xlabel(\"Numero de términos\")\n",
        "plt.ylabel(\"Error cuadrático\")\n",
        "plt.grid()"
      ],
      "metadata": {
        "colab": {
          "base_uri": "https://localhost:8080/",
          "height": 295
        },
        "id": "ImuVMv6z7Uj0",
        "outputId": "6559b13d-1db5-4f42-929a-d2c3f99b36a4"
      },
      "execution_count": 109,
      "outputs": [
        {
          "output_type": "display_data",
          "data": {
            "text/plain": [
              "<Figure size 432x288 with 1 Axes>"
            ],
            "image/png": "[encoded data removed]"
          },
          "metadata": {
            "needs_background": "light"
          }
        }
      ]
    },
    {
      "cell_type": "code",
      "source": [
        "print(soln1.fun)\n",
        "print(soln2.fun)\n",
        "print(soln3.fun)"
      ],
      "metadata": {
        "colab": {
          "base_uri": "https://localhost:8080/"
        },
        "id": "Wr8ITBWT7W2H",
        "outputId": "b74e15ea-d732-4122-a52f-25c498b1e148"
      },
      "execution_count": 110,
      "outputs": [
        {
          "output_type": "stream",
          "name": "stdout",
          "text": [
            "4737912272100.02\n",
            "492921061156.8349\n",
            "441782338477.2277\n"
          ]
        }
      ]
    },
    {
      "cell_type": "markdown",
      "source": [
        "La función que se ajusta mejor es la función de tercer grado"
      ],
      "metadata": {
        "id": "j50Jch4v7jrJ"
      }
    },
    {
      "cell_type": "code",
      "source": [],
      "metadata": {
        "id": "a5_dyXce7ifQ"
      },
      "execution_count": null,
      "outputs": []
    }
  ],
  "metadata": {
    "kernelspec": {
      "display_name": "Python 3 (ipykernel)",
      "language": "python",
      "name": "python3"
    },
    "language_info": {
      "codemirror_mode": {
        "name": "ipython",
        "version": 3
      },
      "file_extension": ".py",
      "mimetype": "text/x-python",
      "name": "python",
      "nbconvert_exporter": "python",
      "pygments_lexer": "ipython3",
      "version": "3.8.11"
    },
    "colab": {
      "provenance": [],
      "include_colab_link": true
    }
  },
  "nbformat": 4,
  "nbformat_minor": 0
}