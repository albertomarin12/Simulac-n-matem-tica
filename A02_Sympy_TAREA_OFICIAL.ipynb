{
  "cells": [
    {
      "cell_type": "markdown",
      "metadata": {
        "id": "MkbHQGggQG9R"
      },
      "source": [
        "# Ejercicios de optimización escalar"
      ]
    },
    {
      "cell_type": "markdown",
      "metadata": {
        "id": "Kyq70WcHQG9W"
      },
      "source": [
        "**Para la siguientes funciones encuentre los puntos críticos, grafique y diga si éste se trata de un máximo o mínimo, local o global.**"
      ]
    },
    {
      "cell_type": "markdown",
      "metadata": {
        "id": "w8YpAqeBQG9W"
      },
      "source": [
        "$f(x)=1260+117x-9x^2$"
      ]
    },
    {
      "cell_type": "code",
      "execution_count": 1,
      "metadata": {
        "id": "bFDm9-dKQG9X"
      },
      "outputs": [],
      "source": [
        "import sympy as sp"
      ]
    },
    {
      "cell_type": "code",
      "execution_count": 2,
      "metadata": {
        "colab": {
          "base_uri": "https://localhost:8080/",
          "height": 38
        },
        "id": "6cPE-oCkQG9Y",
        "outputId": "ac354113-06a4-40ae-9731-f349d6a64670"
      },
      "outputs": [
        {
          "output_type": "execute_result",
          "data": {
            "text/plain": [
              "-9*x**2 + 117*x + 1260"
            ],
            "text/latex": "$\\displaystyle - 9 x^{2} + 117 x + 1260$"
          },
          "metadata": {},
          "execution_count": 2
        }
      ],
      "source": [
        "def f(x) :\n",
        "    return 1260 + 117*x -9*x**2\n",
        "sp.var(\"x\")\n",
        "f(x)"
      ]
    },
    {
      "cell_type": "code",
      "execution_count": 3,
      "metadata": {
        "colab": {
          "base_uri": "https://localhost:8080/",
          "height": 38
        },
        "id": "aF6MpdBAQG9Z",
        "outputId": "38f7935c-f165-49e5-c4de-37abfc05a774"
      },
      "outputs": [
        {
          "output_type": "execute_result",
          "data": {
            "text/plain": [
              "117 - 18*x"
            ],
            "text/latex": "$\\displaystyle 117 - 18 x$"
          },
          "metadata": {},
          "execution_count": 3
        }
      ],
      "source": [
        "df= sp.diff(f(x),x)\n",
        "df"
      ]
    },
    {
      "cell_type": "code",
      "execution_count": 4,
      "metadata": {
        "colab": {
          "base_uri": "https://localhost:8080/"
        },
        "id": "kzboQezSQG9a",
        "outputId": "ce10fcbb-5c99-43dd-a0d2-5f1d32888882"
      },
      "outputs": [
        {
          "output_type": "execute_result",
          "data": {
            "text/plain": [
              "[13/2]"
            ]
          },
          "metadata": {},
          "execution_count": 4
        }
      ],
      "source": [
        "pc= sp.solve(df,x)\n",
        "pc"
      ]
    },
    {
      "cell_type": "code",
      "execution_count": 5,
      "metadata": {
        "colab": {
          "base_uri": "https://localhost:8080/",
          "height": 282
        },
        "id": "t_jcBxJHQG9a",
        "outputId": "427caad9-5113-47ca-d9f0-444cb091e41c"
      },
      "outputs": [
        {
          "output_type": "execute_result",
          "data": {
            "text/plain": [
              "[<matplotlib.lines.Line2D at 0x7f59d56b3ac0>]"
            ]
          },
          "metadata": {},
          "execution_count": 5
        },
        {
          "output_type": "display_data",
          "data": {
            "text/plain": [
              "<Figure size 432x288 with 1 Axes>"
            ],
            "image/png": "[encoded data removed]"
          },
          "metadata": {
            "needs_background": "light"
          }
        }
      ],
      "source": [
        "import sympy as sp\n",
        "import numpy as np\n",
        "import matplotlib.pyplot as plt\n",
        "%matplotlib inline\n",
        "\n",
        "def f(x) :\n",
        "    return 1260 + 117*x -9*x**2\n",
        "xn= np.linspace(-10,25,1000)\n",
        "yn= f(xn)\n",
        "\n",
        "plt.figure()\n",
        "plt.plot(xn,yn)\n",
        "plt.grid()\n",
        "\n",
        "plt.plot(pc[0], f(pc[0]), \"*r\")"
      ]
    },
    {
      "cell_type": "markdown",
      "metadata": {
        "id": "NGzJOFVyQG9b"
      },
      "source": [
        "$f(x)=5+x+\\frac{4}{x}$, para $x>0$"
      ]
    },
    {
      "cell_type": "code",
      "execution_count": 6,
      "metadata": {
        "colab": {
          "base_uri": "https://localhost:8080/",
          "height": 51
        },
        "id": "DIrZjEJJQG9b",
        "outputId": "5826ab21-d2e8-47e5-955c-5d786326b195"
      },
      "outputs": [
        {
          "output_type": "execute_result",
          "data": {
            "text/plain": [
              "x + 5 + 4/x"
            ],
            "text/latex": "$\\displaystyle x + 5 + \\frac{4}{x}$"
          },
          "metadata": {},
          "execution_count": 6
        }
      ],
      "source": [
        "def f(x) :\n",
        "    return 5 + x + 4/x\n",
        "sp.var(\"x\")\n",
        "f(x)"
      ]
    },
    {
      "cell_type": "code",
      "execution_count": 7,
      "metadata": {
        "colab": {
          "base_uri": "https://localhost:8080/",
          "height": 51
        },
        "id": "V6NP02gZQG9b",
        "outputId": "88d8b8c7-1dd7-41f8-f59e-fe4e9bc042eb"
      },
      "outputs": [
        {
          "output_type": "execute_result",
          "data": {
            "text/plain": [
              "1 - 4/x**2"
            ],
            "text/latex": "$\\displaystyle 1 - \\frac{4}{x^{2}}$"
          },
          "metadata": {},
          "execution_count": 7
        }
      ],
      "source": [
        "df= sp.diff(f(x),x)\n",
        "df"
      ]
    },
    {
      "cell_type": "code",
      "execution_count": 8,
      "metadata": {
        "colab": {
          "base_uri": "https://localhost:8080/"
        },
        "id": "fQPGcR4lQG9c",
        "outputId": "79b5f85e-9432-4f84-930a-d2d724642e4b"
      },
      "outputs": [
        {
          "output_type": "execute_result",
          "data": {
            "text/plain": [
              "[-2, 2]"
            ]
          },
          "metadata": {},
          "execution_count": 8
        }
      ],
      "source": [
        "pc= sp.solve(df,x)\n",
        "pc"
      ]
    },
    {
      "cell_type": "code",
      "execution_count": 9,
      "metadata": {
        "colab": {
          "base_uri": "https://localhost:8080/",
          "height": 282
        },
        "id": "Js8hpfBnQG9c",
        "outputId": "0aa336ca-932b-48bd-88cc-c50635c15c9d"
      },
      "outputs": [
        {
          "output_type": "execute_result",
          "data": {
            "text/plain": [
              "[<matplotlib.lines.Line2D at 0x7f59d51a99a0>]"
            ]
          },
          "metadata": {},
          "execution_count": 9
        },
        {
          "output_type": "display_data",
          "data": {
            "text/plain": [
              "<Figure size 432x288 with 1 Axes>"
            ],
            "image/png": "[encoded data removed]"
          },
          "metadata": {
            "needs_background": "light"
          }
        }
      ],
      "source": [
        "import sympy as sp\n",
        "import numpy as np\n",
        "import matplotlib.pyplot as plt\n",
        "%matplotlib inline\n",
        "\n",
        "def f(x) :\n",
        "    return 5 + x + 4/x\n",
        "xn= np.linspace(0.1,5,1000)\n",
        "yn= f(xn)\n",
        "\n",
        "plt.figure()\n",
        "plt.plot(xn,yn)\n",
        "plt.grid()\n",
        "\n",
        "\n",
        "plt.plot(pc[1], f(pc[1]), \"*r\")"
      ]
    },
    {
      "cell_type": "markdown",
      "metadata": {
        "id": "b-eQTaN6QG9d"
      },
      "source": [
        "$f(x)=6-2x+\\sqrt{18-2x^2}$, para $-3\\leq x\\leq 3$"
      ]
    },
    {
      "cell_type": "code",
      "execution_count": 10,
      "metadata": {
        "colab": {
          "base_uri": "https://localhost:8080/",
          "height": 41
        },
        "id": "mbY6cX5NQG9d",
        "outputId": "fe278c2c-6d1f-400a-b86c-6bc8072c74cd"
      },
      "outputs": [
        {
          "output_type": "execute_result",
          "data": {
            "text/plain": [
              "-2*x + sqrt(18 - 2*x**2) + 6"
            ],
            "text/latex": "$\\displaystyle - 2 x + \\sqrt{18 - 2 x^{2}} + 6$"
          },
          "metadata": {},
          "execution_count": 10
        }
      ],
      "source": [
        "import numpy as np\n",
        "def f(x) :\n",
        "    return 6 - 2*x + sp.sqrt(18-2*x**2)\n",
        "sp.var(\"x\")\n",
        "f(x)"
      ]
    },
    {
      "cell_type": "code",
      "execution_count": 11,
      "metadata": {
        "colab": {
          "base_uri": "https://localhost:8080/",
          "height": 55
        },
        "id": "lYqEfDRFQG9d",
        "outputId": "ac6f2e16-6eec-45dc-e9ca-c81d273c701b"
      },
      "outputs": [
        {
          "output_type": "execute_result",
          "data": {
            "text/plain": [
              "-2*x/sqrt(18 - 2*x**2) - 2"
            ],
            "text/latex": "$\\displaystyle - \\frac{2 x}{\\sqrt{18 - 2 x^{2}}} - 2$"
          },
          "metadata": {},
          "execution_count": 11
        }
      ],
      "source": [
        "df= sp.diff(f(x),x)\n",
        "df"
      ]
    },
    {
      "cell_type": "code",
      "execution_count": 12,
      "metadata": {
        "colab": {
          "base_uri": "https://localhost:8080/",
          "height": 38
        },
        "id": "EDXlTpNuQG9e",
        "outputId": "ffff6e3b-6cdb-473e-8f2b-10bf4fc8a2c3"
      },
      "outputs": [
        {
          "output_type": "execute_result",
          "data": {
            "text/plain": [
              "-sqrt(6)"
            ],
            "text/latex": "$\\displaystyle - \\sqrt{6}$"
          },
          "metadata": {},
          "execution_count": 12
        }
      ],
      "source": [
        "pc= sp.solve(df,x)\n",
        "pc[0]"
      ]
    },
    {
      "cell_type": "code",
      "execution_count": 13,
      "metadata": {
        "colab": {
          "base_uri": "https://localhost:8080/",
          "height": 286
        },
        "id": "gitQMzT5QG9e",
        "outputId": "ec28f81b-dd24-4a80-8e40-99954dc02ca2"
      },
      "outputs": [
        {
          "output_type": "execute_result",
          "data": {
            "text/plain": [
              "[<matplotlib.lines.Line2D at 0x7f59d50d4550>]"
            ]
          },
          "metadata": {},
          "execution_count": 13
        },
        {
          "output_type": "display_data",
          "data": {
            "text/plain": [
              "<Figure size 432x288 with 1 Axes>"
            ],
            "image/png": "[encoded data removed]"
          },
          "metadata": {
            "needs_background": "light"
          }
        }
      ],
      "source": [
        "import sympy as sp\n",
        "import numpy as np\n",
        "import matplotlib.pyplot as plt\n",
        "%matplotlib inline\n",
        "\n",
        "def f(x) :\n",
        "    return 6 - 2*x + np.sqrt(18-2*x**2)\n",
        "xn= np.linspace(-3,3,1000)\n",
        "yn= f(xn)\n",
        "\n",
        "plt.figure()\n",
        "plt.plot(xn,yn)\n",
        "plt.grid()\n",
        "\n",
        "\n",
        "plt.plot(float(pc[0]), f(float(pc[0])), \"*r\")"
      ]
    },
    {
      "cell_type": "markdown",
      "metadata": {
        "id": "gba7_dWDQG9e"
      },
      "source": [
        "$f(x)=\\frac{1}{4}x^4+\\frac{1}{3}x^3-x^2$ en el intervalo $[-3,1.7]$"
      ]
    },
    {
      "cell_type": "code",
      "execution_count": 14,
      "metadata": {
        "colab": {
          "base_uri": "https://localhost:8080/",
          "height": 38
        },
        "id": "8tl2OheSQG9e",
        "outputId": "aec4a732-9412-4329-d06d-7c2455328db3"
      },
      "outputs": [
        {
          "output_type": "execute_result",
          "data": {
            "text/plain": [
              "0.25*x**4 + 0.333333333333333*x**3 - x**2"
            ],
            "text/latex": "$\\displaystyle 0.25 x^{4} + 0.333333333333333 x^{3} - x^{2}$"
          },
          "metadata": {},
          "execution_count": 14
        }
      ],
      "source": [
        "def f(x) :\n",
        "    return (1/4)*x**4 + (1/3)*x**3 - x**2\n",
        "sp.var(\"x\")\n",
        "f(x)"
      ]
    },
    {
      "cell_type": "code",
      "execution_count": 15,
      "metadata": {
        "colab": {
          "base_uri": "https://localhost:8080/",
          "height": 38
        },
        "id": "Ip0fnRikQG9f",
        "outputId": "efe8ef1c-3114-477a-f4d7-f7c90b7b83b8"
      },
      "outputs": [
        {
          "output_type": "execute_result",
          "data": {
            "text/plain": [
              "1.0*x**3 + 1.0*x**2 - 2*x"
            ],
            "text/latex": "$\\displaystyle 1.0 x^{3} + 1.0 x^{2} - 2 x$"
          },
          "metadata": {},
          "execution_count": 15
        }
      ],
      "source": [
        "df= sp.diff(f(x),x)\n",
        "df"
      ]
    },
    {
      "cell_type": "code",
      "execution_count": 16,
      "metadata": {
        "colab": {
          "base_uri": "https://localhost:8080/"
        },
        "id": "p9ULO6inQG9f",
        "outputId": "f05e03d5-7b2f-423a-a398-a1e8544ab472"
      },
      "outputs": [
        {
          "output_type": "execute_result",
          "data": {
            "text/plain": [
              "[-2.00000000000000, 0.0, 1.00000000000000]"
            ]
          },
          "metadata": {},
          "execution_count": 16
        }
      ],
      "source": [
        "pc= sp.solve(df,x)\n",
        "pc"
      ]
    },
    {
      "cell_type": "code",
      "execution_count": 17,
      "metadata": {
        "colab": {
          "base_uri": "https://localhost:8080/",
          "height": 282
        },
        "id": "bH0RNU4KQG9f",
        "outputId": "047c6590-3310-45ce-fc44-2b8ac84c1e5d"
      },
      "outputs": [
        {
          "output_type": "execute_result",
          "data": {
            "text/plain": [
              "[<matplotlib.lines.Line2D at 0x7f59d5141af0>]"
            ]
          },
          "metadata": {},
          "execution_count": 17
        },
        {
          "output_type": "display_data",
          "data": {
            "text/plain": [
              "<Figure size 432x288 with 1 Axes>"
            ],
            "image/png": "[encoded data removed]"
          },
          "metadata": {
            "needs_background": "light"
          }
        }
      ],
      "source": [
        "import sympy as sp\n",
        "import numpy as np\n",
        "import matplotlib.pyplot as plt\n",
        "%matplotlib inline\n",
        "\n",
        "def f(x) :\n",
        "    return (1/4)*x**4 + (1/3)*x**3 - x**2\n",
        "xn= np.linspace(-3,1.7,1000)\n",
        "yn= f(xn)\n",
        "\n",
        "plt.figure()\n",
        "plt.plot(xn,yn)\n",
        "plt.grid()\n",
        "\n",
        "\n",
        "plt.plot(float(pc[0]), f(float(pc[0])), \"*g\")\n",
        "plt.plot(float(pc[1]), f(float(pc[1])), \"*g\")"
      ]
    },
    {
      "cell_type": "markdown",
      "metadata": {
        "id": "eJ9PWqooQG9g"
      },
      "source": [
        "---\n",
        "**Resuelva los siguientes problemas usando la librería `SymPy`. Use celdas en `Markdown` para explicar su procedimiento.**"
      ]
    },
    {
      "cell_type": "markdown",
      "metadata": {
        "id": "hihd_s7bQG9g"
      },
      "source": [
        "El perímetro de un triángulo isósceles es de $10 cm$. ¿Cuánto deben medir sus lados para que el volumen del cuerpo generado por la rotación del triángulo en torno a su base sea el mayor posible? (Volumen de un cono $= \\frac{1}{3}\\pi r^2 h$, donde $r$ es el radio de la base y $h$ la altura del cono)."
      ]
    },
    {
      "cell_type": "code",
      "execution_count": 18,
      "metadata": {
        "colab": {
          "base_uri": "https://localhost:8080/",
          "height": 54
        },
        "id": "gpCQs5rpQG9g",
        "outputId": "125bdec6-bdef-4193-d903-fefdc5ba4214"
      },
      "outputs": [
        {
          "output_type": "execute_result",
          "data": {
            "text/plain": [
              "pi*h*r**2/3"
            ],
            "text/latex": "$\\displaystyle \\frac{\\pi h r^{2}}{3}$"
          },
          "metadata": {},
          "execution_count": 18
        }
      ],
      "source": [
        "import sympy as sp\n",
        "import numpy as np\n",
        "\n",
        "sp.var(\"x\")\n",
        "sp.var(\"y\")\n",
        "sp.var(\"h\")\n",
        "sp.var(\"r\")\n",
        "volumen = (sp.pi*(r**2)*h)/3\n",
        "\n",
        "volumen"
      ]
    },
    {
      "cell_type": "code",
      "source": [
        "h_sol = sp.sqrt((x**2)-(y/2)**2)\n",
        "r_sol = y/2\n",
        "x_sol = 5 - y/2\n",
        "\n",
        "volumen = volumen.subs(h, h_sol).subs(r, r_sol).subs(x, x_sol)\n",
        "volumen"
      ],
      "metadata": {
        "colab": {
          "base_uri": "https://localhost:8080/",
          "height": 66
        },
        "id": "Am7fVmziTrWi",
        "outputId": "50898279-2b58-4a5c-b7c0-018f46e4af08"
      },
      "execution_count": 19,
      "outputs": [
        {
          "output_type": "execute_result",
          "data": {
            "text/plain": [
              "pi*y**2*sqrt(-y**2/4 + (5 - y/2)**2)/12"
            ],
            "text/latex": "$\\displaystyle \\frac{\\pi y^{2} \\sqrt{- \\frac{y^{2}}{4} + \\left(5 - \\frac{y}{2}\\right)^{2}}}{12}$"
          },
          "metadata": {},
          "execution_count": 19
        }
      ]
    },
    {
      "cell_type": "code",
      "execution_count": 20,
      "metadata": {
        "colab": {
          "base_uri": "https://localhost:8080/",
          "height": 84
        },
        "id": "Ry7ZZ6lMQG9g",
        "outputId": "a658bad9-1927-417f-952b-8f85674325fe"
      },
      "outputs": [
        {
          "output_type": "execute_result",
          "data": {
            "text/plain": [
              "-5*pi*y**2/(24*sqrt(-y**2/4 + (5 - y/2)**2)) + pi*y*sqrt(-y**2/4 + (5 - y/2)**2)/6"
            ],
            "text/latex": "$\\displaystyle - \\frac{5 \\pi y^{2}}{24 \\sqrt{- \\frac{y^{2}}{4} + \\left(5 - \\frac{y}{2}\\right)^{2}}} + \\frac{\\pi y \\sqrt{- \\frac{y^{2}}{4} + \\left(5 - \\frac{y}{2}\\right)^{2}}}{6}$"
          },
          "metadata": {},
          "execution_count": 20
        }
      ],
      "source": [
        "dvolumen_y= sp.diff(volumen,y)\n",
        "dvolumen_y"
      ]
    },
    {
      "cell_type": "code",
      "source": [
        "y_num = sp.solve(dvolumen_y, y)[1]\n",
        "y_num"
      ],
      "metadata": {
        "colab": {
          "base_uri": "https://localhost:8080/",
          "height": 37
        },
        "id": "WnUT7PLOTp0f",
        "outputId": "0fe7d10a-246c-462e-e21c-605ac1f215a8"
      },
      "execution_count": 21,
      "outputs": [
        {
          "output_type": "execute_result",
          "data": {
            "text/plain": [
              "4"
            ],
            "text/latex": "$\\displaystyle 4$"
          },
          "metadata": {},
          "execution_count": 21
        }
      ]
    },
    {
      "cell_type": "code",
      "execution_count": 22,
      "metadata": {
        "colab": {
          "base_uri": "https://localhost:8080/",
          "height": 89
        },
        "id": "QtHIccAHQG9h",
        "outputId": "cdc8e78f-6921-4518-a7e5-b6691943af54"
      },
      "outputs": [
        {
          "output_type": "execute_result",
          "data": {
            "text/plain": [
              "-25*pi*y**2/(48*(-y**2/4 + (5 - y/2)**2)**(3/2)) - 5*pi*y/(6*sqrt(-y**2/4 + (5 - y/2)**2)) + pi*sqrt(-y**2/4 + (5 - y/2)**2)/6"
            ],
            "text/latex": "$\\displaystyle - \\frac{25 \\pi y^{2}}{48 \\left(- \\frac{y^{2}}{4} + \\left(5 - \\frac{y}{2}\\right)^{2}\\right)^{\\frac{3}{2}}} - \\frac{5 \\pi y}{6 \\sqrt{- \\frac{y^{2}}{4} + \\left(5 - \\frac{y}{2}\\right)^{2}}} + \\frac{\\pi \\sqrt{- \\frac{y^{2}}{4} + \\left(5 - \\frac{y}{2}\\right)^{2}}}{6}$"
          },
          "metadata": {},
          "execution_count": 22
        }
      ],
      "source": [
        "ddvolumen_y= sp.diff(dvolumen_y,y)\n",
        "ddvolumen_y"
      ]
    },
    {
      "cell_type": "code",
      "source": [
        "ddvolumen_y.subs(y, y_num)"
      ],
      "metadata": {
        "id": "HQaAPyYHcSLR",
        "colab": {
          "base_uri": "https://localhost:8080/",
          "height": 55
        },
        "outputId": "25ce3442-a219-49af-dab7-2b3076ccef04"
      },
      "execution_count": 24,
      "outputs": [
        {
          "output_type": "execute_result",
          "data": {
            "text/plain": [
              "-5*sqrt(5)*pi/6"
            ],
            "text/latex": "$\\displaystyle - \\frac{5 \\sqrt{5} \\pi}{6}$"
          },
          "metadata": {},
          "execution_count": 24
        }
      ]
    },
    {
      "cell_type": "markdown",
      "source": [
        "Usando la teoria de la segunda derivada donde nos muestra la aceleración o desaleración de nuestro objeto si el resultado es negativo. El resultado de evaluar 4 en la función de la segunda derivada nos dió como resultado un número negativo. Por lo tanto esta desacelerando y esto significa que viene de tocar un máximo."
      ],
      "metadata": {
        "id": "USD0q_z-KQOo"
      }
    },
    {
      "cell_type": "code",
      "execution_count": 25,
      "metadata": {
        "colab": {
          "base_uri": "https://localhost:8080/",
          "height": 55
        },
        "id": "oBvGnlJsQG9h",
        "outputId": "e8c543d7-0992-44cc-d0e3-679b5e57627c"
      },
      "outputs": [
        {
          "output_type": "execute_result",
          "data": {
            "text/plain": [
              "4*sqrt(5)*pi/3"
            ],
            "text/latex": "$\\displaystyle \\frac{4 \\sqrt{5} \\pi}{3}$"
          },
          "metadata": {},
          "execution_count": 25
        }
      ],
      "source": [
        "volumen.subs(y, y_num)"
      ]
    },
    {
      "cell_type": "code",
      "execution_count": 27,
      "metadata": {
        "id": "lzRzHInzQG9h",
        "colab": {
          "base_uri": "https://localhost:8080/",
          "height": 37
        },
        "outputId": "54bcf8c7-e52a-4066-cff3-d205002540cf"
      },
      "outputs": [
        {
          "output_type": "execute_result",
          "data": {
            "text/plain": [
              "3"
            ],
            "text/latex": "$\\displaystyle 3$"
          },
          "metadata": {},
          "execution_count": 27
        }
      ],
      "source": [
        "x_sol.subs(y, y_num)"
      ]
    },
    {
      "cell_type": "markdown",
      "source": [
        "Los resultados nos dicen que la base del triangulo debe de ser 4 cm y los lados deben de medir 3 cm. Esto nos daria como volumen 9.36642 cm cubicos, que es el volumen máximo que puede tener con un perimetro de 10 cm según nuestros resultados."
      ],
      "metadata": {
        "id": "-gVewCq8LAuc"
      }
    },
    {
      "cell_type": "markdown",
      "metadata": {
        "id": "JU_PdWebQG9h"
      },
      "source": [
        "Disponemos de una barra de aluminio de 6 metros para construir una portería de fútbol. Si queremos que el área de la portería sea máxima, ¿cuánto deben medir los postes y el travesaño?"
      ]
    },
    {
      "cell_type": "code",
      "execution_count": 29,
      "metadata": {
        "colab": {
          "base_uri": "https://localhost:8080/",
          "height": 38
        },
        "id": "mQcdFaUcQG9i",
        "outputId": "a11836ef-4394-47be-98b4-a72fb5b30cf4"
      },
      "outputs": [
        {
          "output_type": "execute_result",
          "data": {
            "text/plain": [
              "x*y"
            ],
            "text/latex": "$\\displaystyle x y$"
          },
          "metadata": {},
          "execution_count": 29
        }
      ],
      "source": [
        "import sympy as sp\n",
        "import numpy as np\n",
        "\n",
        "sp.var(\"x\")\n",
        "sp.var(\"y\")\n",
        "sp.var(\"h\")\n",
        "\n",
        "area = x*y\n",
        "perimetro = 2*x + y - 6\n",
        "area\n"
      ]
    },
    {
      "cell_type": "code",
      "execution_count": 37,
      "metadata": {
        "colab": {
          "base_uri": "https://localhost:8080/",
          "height": 38
        },
        "id": "Kd_CN6AUQG9i",
        "outputId": "e67fcd4e-0e24-4f20-9ee6-b885f0a597b0"
      },
      "outputs": [
        {
          "output_type": "execute_result",
          "data": {
            "text/plain": [
              "6 - 2*x"
            ],
            "text/latex": "$\\displaystyle 6 - 2 x$"
          },
          "metadata": {},
          "execution_count": 37
        }
      ],
      "source": [
        "y_sol = sp.solve(perimetro, y)[0]\n",
        "y_sol"
      ]
    },
    {
      "cell_type": "code",
      "source": [
        "area_s = area.subs(y, y_sol)\n",
        "area_s"
      ],
      "metadata": {
        "colab": {
          "base_uri": "https://localhost:8080/",
          "height": 38
        },
        "id": "akkgD8gcTbGV",
        "outputId": "dc872db0-4c7e-4523-893a-fa0443ac6312"
      },
      "execution_count": 38,
      "outputs": [
        {
          "output_type": "execute_result",
          "data": {
            "text/plain": [
              "x*(6 - 2*x)"
            ],
            "text/latex": "$\\displaystyle x \\left(6 - 2 x\\right)$"
          },
          "metadata": {},
          "execution_count": 38
        }
      ]
    },
    {
      "cell_type": "code",
      "execution_count": 40,
      "metadata": {
        "colab": {
          "base_uri": "https://localhost:8080/",
          "height": 38
        },
        "id": "rPbCkxCqQG9i",
        "outputId": "10eacf1f-c86a-4a50-d58f-9c237210a060"
      },
      "outputs": [
        {
          "output_type": "execute_result",
          "data": {
            "text/plain": [
              "6 - 4*x"
            ],
            "text/latex": "$\\displaystyle 6 - 4 x$"
          },
          "metadata": {},
          "execution_count": 40
        }
      ],
      "source": [
        "darea_x = sp.diff(area_s, x)\n",
        "darea_x"
      ]
    },
    {
      "cell_type": "code",
      "source": [
        "ddarea_x = sp.diff(darea_x, x)\n",
        "ddarea_x"
      ],
      "metadata": {
        "colab": {
          "base_uri": "https://localhost:8080/",
          "height": 37
        },
        "id": "sSDMwmmpT3sj",
        "outputId": "3d48ee72-3910-4e11-f193-3f39c2bdc326"
      },
      "execution_count": 42,
      "outputs": [
        {
          "output_type": "execute_result",
          "data": {
            "text/plain": [
              "-4"
            ],
            "text/latex": "$\\displaystyle -4$"
          },
          "metadata": {},
          "execution_count": 42
        }
      ]
    },
    {
      "cell_type": "markdown",
      "source": [
        "-4 es un máximo relativo porque es negativo al evaluarse en la segunda derivada."
      ],
      "metadata": {
        "id": "2TVHTvquU_N2"
      }
    },
    {
      "cell_type": "code",
      "execution_count": 54,
      "metadata": {
        "colab": {
          "base_uri": "https://localhost:8080/",
          "height": 51
        },
        "id": "746MOU2VQG9j",
        "outputId": "6c2396ca-ac19-4232-a501-f6784f33204f"
      },
      "outputs": [
        {
          "output_type": "execute_result",
          "data": {
            "text/plain": [
              "3/2"
            ],
            "text/latex": "$\\displaystyle \\frac{3}{2}$"
          },
          "metadata": {},
          "execution_count": 54
        }
      ],
      "source": [
        "x_res = sp.solve(darea_x, x)[0]\n",
        "x_res"
      ]
    },
    {
      "cell_type": "code",
      "execution_count": 56,
      "metadata": {
        "colab": {
          "base_uri": "https://localhost:8080/",
          "height": 37
        },
        "id": "b65bcAufQG9j",
        "outputId": "7deb40c3-9df8-44ff-fe6a-c79e4d265ace"
      },
      "outputs": [
        {
          "output_type": "execute_result",
          "data": {
            "text/plain": [
              "3"
            ],
            "text/latex": "$\\displaystyle 3$"
          },
          "metadata": {},
          "execution_count": 56
        }
      ],
      "source": [
        "y_res = y_sol.subs(x, x_res)\n",
        "y_res"
      ]
    },
    {
      "cell_type": "code",
      "source": [
        "perimetro = 2*x + y\n"
      ],
      "metadata": {
        "id": "TMGnoUFFYp2W"
      },
      "execution_count": 65,
      "outputs": []
    },
    {
      "cell_type": "code",
      "source": [
        "p = perimetro.subs(x, x_res).subs(y,y_res)\n",
        "p"
      ],
      "metadata": {
        "colab": {
          "base_uri": "https://localhost:8080/",
          "height": 37
        },
        "id": "4xkpXeeQX84B",
        "outputId": "ed2e9e1d-ec83-42af-91e0-5a055d7feb1b"
      },
      "execution_count": 66,
      "outputs": [
        {
          "output_type": "execute_result",
          "data": {
            "text/plain": [
              "6"
            ],
            "text/latex": "$\\displaystyle 6$"
          },
          "metadata": {},
          "execution_count": 66
        }
      ]
    },
    {
      "cell_type": "code",
      "source": [
        "a = area.subs(x, x_res).subs(y,y_res)\n",
        "a"
      ],
      "metadata": {
        "colab": {
          "base_uri": "https://localhost:8080/",
          "height": 51
        },
        "id": "Ejtq_2PlYXp8",
        "outputId": "e5a1d5d3-9df7-4d03-eb93-472034f55a10"
      },
      "execution_count": 59,
      "outputs": [
        {
          "output_type": "execute_result",
          "data": {
            "text/plain": [
              "9/2"
            ],
            "text/latex": "$\\displaystyle \\frac{9}{2}$"
          },
          "metadata": {},
          "execution_count": 59
        }
      ]
    },
    {
      "cell_type": "markdown",
      "source": [
        "El resultado nos da que y = 3 metros y x = 3/2 o en otras palabras el travesaño debe de medir 3 metross y los dos postes 1.5 metros cada uno. Esto nos da un perímetro de 6 metros y un área de 9/2 o 4.5 metros. Que es el área máxima que puede tener según nuestros resultados."
      ],
      "metadata": {
        "id": "PLEW-3k2XOzJ"
      }
    }
  ],
  "metadata": {
    "kernelspec": {
      "display_name": "Python 3 (ipykernel)",
      "language": "python",
      "name": "python3"
    },
    "language_info": {
      "codemirror_mode": {
        "name": "ipython",
        "version": 3
      },
      "file_extension": ".py",
      "mimetype": "text/x-python",
      "name": "python",
      "nbconvert_exporter": "python",
      "pygments_lexer": "ipython3",
      "version": "3.9.12"
    },
    "colab": {
      "provenance": []
    }
  },
  "nbformat": 4,
  "nbformat_minor": 0
}